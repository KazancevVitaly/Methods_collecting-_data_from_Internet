{
 "cells": [
  {
   "cell_type": "markdown",
   "id": "57f9555d",
   "metadata": {},
   "source": [
    "# Методы сбора и обработки данных из сети Интернет\n",
    "## GeekBrains\n",
    "## Практическая работа\n",
    "## Казанцев Виталий"
   ]
  },
  {
   "cell_type": "markdown",
   "id": "446f9271",
   "metadata": {},
   "source": [
    "### Задача\n",
    "Написать приложение, которое собирает основные новости с сайта на выбор news.mail.ru, lenta.ru, yandex-новости. Для парсинга использовать XPath. Структура данных должна содержать:\n",
    "*        название источника;\n",
    "*        наименование новости;\n",
    "*        ссылку на новость;\n",
    "*        дата публикации.\n",
    " \n",
    "     **Сложить собранные новости в БД**\n",
    "\n",
    "Минимум один сайт, максимум - все три\n"
   ]
  },
  {
   "cell_type": "markdown",
   "id": "0eeba1f6",
   "metadata": {},
   "source": [
    "Подключаем нужные библиотеки"
   ]
  },
  {
   "cell_type": "code",
   "execution_count": 1,
   "id": "60e657ca",
   "metadata": {},
   "outputs": [],
   "source": [
    "from lxml import html\n",
    "from pprint import pprint\n",
    "from pymongo import MongoClient as mcl\n",
    "import requests"
   ]
  },
  {
   "cell_type": "code",
   "execution_count": 2,
   "id": "344a47cd",
   "metadata": {},
   "outputs": [],
   "source": [
    "class NewsScraper:\n",
    "    \n",
    "    def __inint__(self, url, headers):\n",
    "        self.url = url\n",
    "        self.headers = headers\n",
    "        self.news_list = []\n",
    "        self.params = {}\n",
    "        self.dom = None\n",
    "        \n",
    "    def get_dom(self):\n",
    "        response = requests.get(self.url, params=self.params, headers=self.headers)\n",
    "        if response.ok:\n",
    "            self.dom = html.fromstring(response.text)\n",
    "        return\n",
    "    \n",
    "    def get_list_news(self):\n",
    "        pprint(self.news_list)"
   ]
  },
  {
   "cell_type": "code",
   "execution_count": 3,
   "id": "a863ad4a",
   "metadata": {},
   "outputs": [],
   "source": [
    "class MailNewsScraper(NewsScraper):\n",
    "    \n",
    "    def __init__(self, url, headers):\n",
    "        super().__inint__(url, headers)\n",
    "    \n",
    "    def get_news(self):\n",
    "        super().get_dom()\n",
    "        main_news = self.dom.xpath(\"//div[contains(@class, 'daynews__item')]\")\n",
    "        for news in main_news:\n",
    "            data_news = {}\n",
    "            name = news.xpath(\".//span[contains(@class, 'photo__title')]/text()\")[0]\n",
    "            name = name.replace(u'\\xa0', u' ')\n",
    "            link = news.xpath(\".//a[contains(@class, 'photo')]/@href\")[0]\n",
    "            resp = requests.get(link, params=self.params, headers=self.headers)\n",
    "            dom_news = html.fromstring(resp.text)\n",
    "            info = dom_news.xpath(\"//span[contains(@class, 'note__text')]\")\n",
    "            date = info[0].xpath(\"./@datetime\")[0]\n",
    "            source = info[1].xpath('..//text()')[1]\n",
    "            data_news['Заголовок'] = name\n",
    "            data_news['Ссылка на новость'] = link\n",
    "            data_news['Дата публикации'] = date\n",
    "            data_news['Источник'] = source\n",
    "            self.news_list.append(data_news)\n",
    "        \n",
    "        main_news = self.dom.xpath(\n",
    "            \"//ul[@class='list list_type_square list_half js-module']/li[contains(@class, 'list__item')]\"\n",
    "        )\n",
    "        for news in main_news:\n",
    "            data_news = {}\n",
    "            name = news.xpath(\".//a[@class='list__text']/text()\")[0]\n",
    "            name = name.replace(u'\\xa0', u' ')\n",
    "            link = news.xpath(\".//a[@class='list__text']/@href\")[0]\n",
    "            resp = requests.get(link, params=self.params, headers=self.headers)\n",
    "            dom_news = html.fromstring(resp.text)\n",
    "            info = dom_news.xpath(\"//span[contains(@class, 'note__text')]\")\n",
    "            date = info[0].xpath(\"./@datetime\")[0]\n",
    "            source = info[1].xpath('..//text()')[1]\n",
    "            data_news['Заголовок'] = name\n",
    "            data_news['Ссылка на новость'] = link\n",
    "            data_news['Дата публикации'] = date\n",
    "            data_news['Источник'] = source\n",
    "            self.news_list.append(data_news)\n",
    "        \n",
    "    \n",
    "    "
   ]
  },
  {
   "cell_type": "code",
   "execution_count": 4,
   "id": "54734ada",
   "metadata": {},
   "outputs": [],
   "source": [
    "headers = {\n",
    "    'User-Agent': 'Mozilla/5.0 (X11; Ubuntu; Linux x86_64; rv:94.0) Gecko/20100101 Firefox/94.0'\n",
    "}\n",
    "\n",
    "url = 'https://news.mail.ru'"
   ]
  },
  {
   "cell_type": "code",
   "execution_count": 5,
   "id": "2a77d307",
   "metadata": {
    "scrolled": false
   },
   "outputs": [
    {
     "name": "stdout",
     "output_type": "stream",
     "text": [
      "[{'Дата публикации': '2021-11-24T14:29:29+03:00',\n",
      "  'Заголовок': 'Зюганов, Кучера и Лоза ответили на письмо врачей антиваксерам',\n",
      "  'Источник': 'РБК',\n",
      "  'Ссылка на новость': 'https://news.mail.ru/society/48920567/'},\n",
      " {'Дата публикации': '2021-11-24T13:38:10+03:00',\n",
      "  'Заголовок': 'Фильм Ефремова победил в конкурсе среди осужденных',\n",
      "  'Источник': 'Фонтанка',\n",
      "  'Ссылка на новость': 'https://news.mail.ru/society/48922444/'},\n",
      " {'Дата публикации': '2021-11-24T11:40:56+03:00',\n",
      "  'Заголовок': 'Украина начала спецоперацию на границе с Белоруссией',\n",
      "  'Источник': '© РИА Новости',\n",
      "  'Ссылка на новость': 'https://news.mail.ru/politics/48918391/'},\n",
      " {'Дата публикации': '2021-11-24T12:43:18+03:00',\n",
      "  'Заголовок': 'В Москве простились с Ниной Руслановой',\n",
      "  'Источник': '© РИА Новости',\n",
      "  'Ссылка на новость': 'https://news.mail.ru/society/48920973/'},\n",
      " {'Дата публикации': '2021-11-24T13:07:03+03:00',\n",
      "  'Заголовок': 'В Кремле оценили претензии Бастрыкина к Моргенштерну',\n",
      "  'Источник': 'Газета.Ру',\n",
      "  'Ссылка на новость': 'https://news.mail.ru/society/48921787/'},\n",
      " {'Дата публикации': '2021-11-24T12:43:18+03:00',\n",
      "  'Заголовок': 'В Москве простились с Ниной Руслановой',\n",
      "  'Источник': '© РИА Новости',\n",
      "  'Ссылка на новость': 'https://news.mail.ru/society/48920973/'},\n",
      " {'Дата публикации': '2021-11-24T13:07:03+03:00',\n",
      "  'Заголовок': 'В Кремле оценили претензии Бастрыкина к Моргенштерну',\n",
      "  'Источник': 'Газета.Ру',\n",
      "  'Ссылка на новость': 'https://news.mail.ru/society/48921787/'},\n",
      " {'Дата публикации': '2021-11-24T11:28:10+03:00',\n",
      "  'Заголовок': 'В России могут возбудить уголовные дела на 37 '\n",
      "               'антипрививочников',\n",
      "  'Источник': 'Известия',\n",
      "  'Ссылка на новость': 'https://news.mail.ru/society/48914368/'},\n",
      " {'Дата публикации': '2021-11-23T21:37:11+03:00',\n",
      "  'Заголовок': 'Деревня-призрак, затопленная 30 лет назад, показалась из воды',\n",
      "  'Источник': 'BBC News Русская служба',\n",
      "  'Ссылка на новость': 'https://news.mail.ru/society/48912394/'},\n",
      " {'Дата публикации': '2021-11-24T11:00:44+03:00',\n",
      "  'Заголовок': 'На Сахалине берег усыпало деликатесным гребешком (видео)',\n",
      "  'Источник': 'Life.ru',\n",
      "  'Ссылка на новость': 'https://news.mail.ru/society/48915379/'},\n",
      " {'Дата публикации': '2021-11-24T12:50:01+03:00',\n",
      "  'Заголовок': 'Озеро в Канаде покрылось ледяными шарами (видео)',\n",
      "  'Источник': 'Погода Mail.ru',\n",
      "  'Ссылка на новость': 'https://news.mail.ru/society/48921378/'},\n",
      " {'Дата публикации': '2021-11-24T11:20:40+03:00',\n",
      "  'Заголовок': 'Россиян предупредили о дефиците ряда лекарств в аптеках',\n",
      "  'Источник': 'Газета Коммерсантъ',\n",
      "  'Ссылка на новость': 'https://news.mail.ru/economics/48914033/'},\n",
      " {'Дата публикации': '2021-11-24T10:25:57+03:00',\n",
      "  'Заголовок': 'Работодатели начали расчет новогодних премий',\n",
      "  'Источник': 'Life.ru',\n",
      "  'Ссылка на новость': 'https://news.mail.ru/economics/48918468/'}]\n"
     ]
    }
   ],
   "source": [
    "mail_news = MailNewsScraper(url, headers)\n",
    "mail_news.get_news()\n",
    "mail_news.get_list_news()"
   ]
  },
  {
   "cell_type": "code",
   "execution_count": 9,
   "id": "27a59a68",
   "metadata": {},
   "outputs": [],
   "source": [
    "client = mcl('127.0.0.1', 27017)\n",
    "db = client['news']\n",
    "news = db.news\n",
    "news.create_index('link', unique=True)\n",
    "def to_mongo(lst):\n",
    "    for doc in lst:\n",
    "        try:\n",
    "            news.insert_one(doc)\n",
    "        except:\n",
    "            continue\n",
    "    return"
   ]
  },
  {
   "cell_type": "code",
   "execution_count": 11,
   "id": "6cc3fb89",
   "metadata": {},
   "outputs": [],
   "source": [
    "to_mongo(mail_news.news_list)"
   ]
  }
 ],
 "metadata": {
  "kernelspec": {
   "display_name": "Python 3 (ipykernel)",
   "language": "python",
   "name": "python3"
  },
  "language_info": {
   "codemirror_mode": {
    "name": "ipython",
    "version": 3
   },
   "file_extension": ".py",
   "mimetype": "text/x-python",
   "name": "python",
   "nbconvert_exporter": "python",
   "pygments_lexer": "ipython3",
   "version": "3.9.7"
  }
 },
 "nbformat": 4,
 "nbformat_minor": 5
}
