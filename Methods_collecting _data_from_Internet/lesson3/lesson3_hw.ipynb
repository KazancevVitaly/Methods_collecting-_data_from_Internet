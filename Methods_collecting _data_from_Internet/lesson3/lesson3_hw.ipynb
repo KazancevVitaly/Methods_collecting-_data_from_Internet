{
 "cells": [
  {
   "cell_type": "markdown",
   "id": "19263a9a",
   "metadata": {},
   "source": [
    "# Методы сбора и обработки данных из сети Интернет\n",
    "## Домашняя работа\n",
    "## Урок 3\n",
    "## Казанцев Виталий\n",
    "\n"
   ]
  },
  {
   "cell_type": "markdown",
   "id": "16cd690f",
   "metadata": {},
   "source": [
    "### Задача 1. \n",
    "\n",
    "***Развернуть у себя на компьютере/виртуальной машине/хостинге MongoDB и реализовать функцию, которая будет добавлять только новые вакансии/продукты в вашу базу.***\n",
    "\n",
    "### Задача 2. \n",
    "***Написать функцию, которая производит поиск и выводит на экран вакансии с заработной платой больше введённой суммы (необходимо анализировать оба поля зарплаты). Для тех, кто выполнил задание с Росконтролем - напишите запрос для поиска продуктов с рейтингом не ниже введенного или качеством не ниже введенного (то есть цифра вводится одна, а запрос проверяет оба поля)***"
   ]
  },
  {
   "cell_type": "code",
   "execution_count": 1,
   "id": "bf0ad405",
   "metadata": {},
   "outputs": [],
   "source": [
    "import requests\n",
    "import pandas as pd\n",
    "import json\n",
    "\n",
    "from bs4 import BeautifulSoup\n",
    "from pprint import pprint\n",
    "from pymongo import MongoClient as mcl"
   ]
  },
  {
   "cell_type": "code",
   "execution_count": 2,
   "id": "81ee3591",
   "metadata": {},
   "outputs": [],
   "source": [
    "class JobScraper:\n",
    "    \n",
    "    def __init__(self, headers, url):\n",
    "        self.headers = headers\n",
    "        self.url = url\n",
    "        self.job_list = []\n",
    "        self.vocation = input('Укажите вакансию:\\n')\n",
    "        \n",
    "    def class_exists(self, soup, teg, cl):\n",
    "        if soup.find(teg, {'class': cl}):\n",
    "            return True\n",
    "        return False\n",
    "    \n",
    "    def get_vocation_list(self):\n",
    "        print(f'Всего вакансий на {self.url}:\\n{len(self.job_list)}\\nПять самых свежих вакансий:')\n",
    "        pprint(self.job_list[:6])\n",
    "        \n",
    "    def jobs_to_data(self, name):\n",
    "        df = pd.DataFrame(self.job_list)\n",
    "        df.to_csv(name, sep='\\t')\n",
    "        "
   ]
  },
  {
   "cell_type": "code",
   "execution_count": 3,
   "id": "2cedaa0a",
   "metadata": {},
   "outputs": [],
   "source": [
    "class SuperJobScraper(JobScraper):\n",
    "    \n",
    "    def __init__(self, headers, url):\n",
    "        super().__init__(headers, url)\n",
    "        self.params = {\n",
    "            'keywords': self.vocation,\n",
    "        }\n",
    "        self.path = f'{self.url}/vacancy/search/'\n",
    "        self.name = 'superjob.csv'\n",
    "    \n",
    "    def get_jobs(self):\n",
    "        response = requests.get(\n",
    "            self.path,\n",
    "            params=self.params,\n",
    "            headers=self.headers\n",
    "        )\n",
    "        if response.ok:\n",
    "            dom = BeautifulSoup(response.text, 'html.parser')           \n",
    "            pages = dom.find('div', {'class': 'we08m L1p51 _106ov Z-TZg _2rimQ _298jM onoJj'})\n",
    "            pages = pages.findChildren('a')\n",
    "            amount_pages = int(pages[-2].getText())\n",
    "            for i in range(amount_pages):\n",
    "                self.params['page'] = i + 1\n",
    "                response = requests.get(\n",
    "                    self.path,\n",
    "                    params=self.params,\n",
    "                    headers=self.headers\n",
    "                )\n",
    "                dom = BeautifulSoup(response.text, 'html.parser')\n",
    "                jobs = dom.find_all('div', {'class': 'f-test-search-result-item'})\n",
    "                for job in jobs:\n",
    "                    if super().class_exists(job, 'div', 'Fo44F'):\n",
    "                        data_job = {}\n",
    "                        info = job.find('a', {'class': 'icMQ_'})\n",
    "                        name = info.getText()\n",
    "                        link = self.url + info['href']\n",
    "                        salary = job.find('span', {'class': '_2Wp8I'}).getText()\n",
    "                        salary = salary.replace(u'\\xa0', u' ')\n",
    "                        if salary == 'По договорённости':\n",
    "                            mins = None\n",
    "                            maxs = None\n",
    "                            valuta = None\n",
    "                        else:\n",
    "                            salary_list = salary.split(' ')\n",
    "                            valuta = salary_list[-1]\n",
    "                            salary_list.pop()\n",
    "                            if salary_list[0].isalpha():\n",
    "                                salary_list.pop(0)\n",
    "                            salary = ''.join(salary_list)\n",
    "                            if '—' in salary:\n",
    "                                mins = int(salary.split('—')[0])\n",
    "                                maxs = int(salary.split('—')[1])\n",
    "                            else:\n",
    "                                mins = int(salary)\n",
    "                                maxs = int(salary)\n",
    "                        site = self.url\n",
    "                        data_job['vocation'] = name\n",
    "                        data_job['link'] = link\n",
    "                        data_job['min_salary'] = mins\n",
    "                        data_job['max_salary'] = maxs\n",
    "                        data_job['currency'] = valuta\n",
    "                        data_job['site_from'] = site\n",
    "                        self.job_list.append(data_job)\n",
    "        super().jobs_to_data(self.name)\n",
    "            \n",
    "    "
   ]
  },
  {
   "cell_type": "code",
   "execution_count": 4,
   "id": "5df8e5ae",
   "metadata": {},
   "outputs": [],
   "source": [
    "class HhJobScraper(JobScraper):\n",
    "    \n",
    "    def __init__(self, headers, url):\n",
    "        super().__init__(headers, url)\n",
    "        self.params = {\n",
    "            'area': '113',\n",
    "            'fromSearchLine': 'true',\n",
    "            'text': self.vocation,\n",
    "            'items_on_page': '20',\n",
    "        }\n",
    "        self.path = f'{self.url}/search/vacancy'\n",
    "        self.name = 'hhjob.csv'\n",
    "        \n",
    "    def get_jobs(self):\n",
    "        response = requests.get(\n",
    "            self.path,\n",
    "            params=self.params,\n",
    "            headers=self.headers\n",
    "        )\n",
    "        if response.ok:\n",
    "            dom = BeautifulSoup(response.text, 'html.parser')\n",
    "            \n",
    "            pages = dom.find_all('a', {'class': 'bloko-button'})\n",
    "            amount_pages = int(pages[-2].getText())\n",
    "            for i in range(amount_pages):\n",
    "                self.params['page'] = i\n",
    "                dom = BeautifulSoup(response.text, 'html.parser')\n",
    "                jobs = dom.find_all('div', {'class': 'vacancy-serp-item'})\n",
    "                for job in jobs:\n",
    "                    data_job = {}\n",
    "                    info = job.find_all('span', {'class': 'bloko-header-section-3'})\n",
    "                    name = info[0].getText()\n",
    "                    link = info[0].find('a')['href']\n",
    "                    try:\n",
    "                        salary = info[1].getText()\n",
    "                    except IndexError:\n",
    "                        salary = None\n",
    "                        mins = None\n",
    "                        maxs = None\n",
    "                        valuta = None\n",
    "                    if salary:\n",
    "                        list_salary = salary.replace(u'\\u202f', u'').split(' ')\n",
    "                        valuta = list_salary[-1]\n",
    "                        list_salary.pop()\n",
    "                        if list_salary[0].isalpha():\n",
    "                            list_salary.pop(0)\n",
    "                        salary = ''.join(list_salary)\n",
    "                        if '–' in salary:\n",
    "                            salary = salary.split('–')\n",
    "                            mins = salary[0]\n",
    "                            maxs = salary[0]\n",
    "                        else:\n",
    "                            mins = int(salary)\n",
    "                            maxs = int(salary)\n",
    "                    site = self.url\n",
    "                    data_job['vocation'] = name\n",
    "                    data_job['link'] = link\n",
    "                    data_job['min_salary'] = mins\n",
    "                    data_job['max_salary'] = maxs\n",
    "                    data_job['currency'] = valuta\n",
    "                    data_job['site_from'] = site\n",
    "                    self.job_list.append(data_job)\n",
    "        super().jobs_to_data(self.name)"
   ]
  },
  {
   "cell_type": "code",
   "execution_count": 5,
   "id": "19ae230f",
   "metadata": {},
   "outputs": [],
   "source": [
    "headers = {'User-Agent': 'Mozilla/5.0 (X11; Ubuntu; Linux x86_64; rv:94.0) Gecko/20100101 Firefox/94.0'}\n",
    "url1 = 'https://russia.superjob.ru'\n",
    "url2 = 'https://hh.ru'"
   ]
  },
  {
   "cell_type": "code",
   "execution_count": 6,
   "id": "f47a0914",
   "metadata": {
    "scrolled": true
   },
   "outputs": [
    {
     "name": "stdout",
     "output_type": "stream",
     "text": [
      "Укажите вакансию:\n",
      "Python\n"
     ]
    }
   ],
   "source": [
    "sj = SuperJobScraper(headers, url1)"
   ]
  },
  {
   "cell_type": "code",
   "execution_count": 7,
   "id": "4a865854",
   "metadata": {
    "scrolled": false
   },
   "outputs": [],
   "source": [
    "sj.get_jobs()"
   ]
  },
  {
   "cell_type": "code",
   "execution_count": 8,
   "id": "64d525db",
   "metadata": {
    "scrolled": false
   },
   "outputs": [
    {
     "name": "stdout",
     "output_type": "stream",
     "text": [
      "Всего вакансий на https://russia.superjob.ru:\n",
      "132\n",
      "Пять самых свежих вакансий:\n",
      "[{'currency': None,\n",
      "  'link': 'https://russia.superjob.ru/vakansii/starshij-razrabotchik-python-40286074.html',\n",
      "  'max_salary': None,\n",
      "  'min_salary': None,\n",
      "  'site_from': 'https://russia.superjob.ru',\n",
      "  'vocation': 'Старший разработчик python'},\n",
      " {'currency': 'руб.',\n",
      "  'link': 'https://russia.superjob.ru/vakansii/python-django-fullstack-razrabotchik-39274896.html',\n",
      "  'max_salary': 200000,\n",
      "  'min_salary': 200000,\n",
      "  'site_from': 'https://russia.superjob.ru',\n",
      "  'vocation': 'Python Django fullstack разработчик'},\n",
      " {'currency': None,\n",
      "  'link': 'https://russia.superjob.ru/vakansii/qa-avtomatizator-39705235.html',\n",
      "  'max_salary': None,\n",
      "  'min_salary': None,\n",
      "  'site_from': 'https://russia.superjob.ru',\n",
      "  'vocation': 'QA-автоматизатор (python)'},\n",
      " {'currency': 'руб.',\n",
      "  'link': 'https://russia.superjob.ru/vakansii/junior-python-39359235.html',\n",
      "  'max_salary': 30000,\n",
      "  'min_salary': 25000,\n",
      "  'site_from': 'https://russia.superjob.ru',\n",
      "  'vocation': 'Junior Python'},\n",
      " {'currency': 'руб.',\n",
      "  'link': 'https://russia.superjob.ru/vakansii/razrabotchik-python-40248418.html',\n",
      "  'max_salary': 125000,\n",
      "  'min_salary': 100000,\n",
      "  'site_from': 'https://russia.superjob.ru',\n",
      "  'vocation': 'Разработчик Python'},\n",
      " {'currency': 'руб.',\n",
      "  'link': 'https://russia.superjob.ru/vakansii/python-backend-developer-39814546.html',\n",
      "  'max_salary': 100000,\n",
      "  'min_salary': 80000,\n",
      "  'site_from': 'https://russia.superjob.ru',\n",
      "  'vocation': 'Python backend developer'}]\n"
     ]
    }
   ],
   "source": [
    "sj.get_vocation_list()"
   ]
  },
  {
   "cell_type": "code",
   "execution_count": 9,
   "id": "ce7c8dc4",
   "metadata": {},
   "outputs": [
    {
     "name": "stdout",
     "output_type": "stream",
     "text": [
      "Укажите вакансию:\n",
      "Python\n"
     ]
    }
   ],
   "source": [
    "hh = HhJobScraper(headers, url2)"
   ]
  },
  {
   "cell_type": "code",
   "execution_count": 10,
   "id": "a66d910d",
   "metadata": {
    "scrolled": false
   },
   "outputs": [],
   "source": [
    "hh.get_jobs()"
   ]
  },
  {
   "cell_type": "code",
   "execution_count": 11,
   "id": "f1972183",
   "metadata": {
    "scrolled": false
   },
   "outputs": [
    {
     "name": "stdout",
     "output_type": "stream",
     "text": [
      "Всего вакансий на https://hh.ru:\n",
      "2000\n",
      "Пять самых свежих вакансий:\n",
      "[{'currency': 'руб.',\n",
      "  'link': 'https://irkutsk.hh.ru/vacancy/49041173?from=vacancy_search_list&query=Python',\n",
      "  'max_salary': '187000',\n",
      "  'min_salary': '187000',\n",
      "  'site_from': 'https://hh.ru',\n",
      "  'vocation': 'Разработчик Python'},\n",
      " {'currency': 'руб.',\n",
      "  'link': 'https://irkutsk.hh.ru/vacancy/49041322?from=vacancy_search_list&query=Python',\n",
      "  'max_salary': '160000',\n",
      "  'min_salary': '160000',\n",
      "  'site_from': 'https://hh.ru',\n",
      "  'vocation': 'DevOps инженер (Bash, Python, AWS/ GCP)'},\n",
      " {'currency': None,\n",
      "  'link': 'https://irkutsk.hh.ru/vacancy/49758597?from=vacancy_search_list&query=Python',\n",
      "  'max_salary': None,\n",
      "  'min_salary': None,\n",
      "  'site_from': 'https://hh.ru',\n",
      "  'vocation': 'Data Engineer'},\n",
      " {'currency': 'руб.',\n",
      "  'link': 'https://irkutsk.hh.ru/vacancy/49711022?from=vacancy_search_list&query=Python',\n",
      "  'max_salary': 230000,\n",
      "  'min_salary': 230000,\n",
      "  'site_from': 'https://hh.ru',\n",
      "  'vocation': 'Data scientist (Computer Vision)'},\n",
      " {'currency': 'руб.',\n",
      "  'link': 'https://irkutsk.hh.ru/vacancy/47228261?from=vacancy_search_list&query=Python',\n",
      "  'max_salary': 200000,\n",
      "  'min_salary': 200000,\n",
      "  'site_from': 'https://hh.ru',\n",
      "  'vocation': 'Web-программист Python (Middle/Senior)'},\n",
      " {'currency': None,\n",
      "  'link': 'https://irkutsk.hh.ru/vacancy/47377173?from=vacancy_search_list&query=Python',\n",
      "  'max_salary': None,\n",
      "  'min_salary': None,\n",
      "  'site_from': 'https://hh.ru',\n",
      "  'vocation': 'Data Scientist'}]\n"
     ]
    }
   ],
   "source": [
    "hh.get_vocation_list()"
   ]
  },
  {
   "cell_type": "markdown",
   "id": "daae181d",
   "metadata": {},
   "source": [
    "### Задача 1"
   ]
  },
  {
   "cell_type": "code",
   "execution_count": 12,
   "id": "86653987",
   "metadata": {},
   "outputs": [],
   "source": [
    "client = mcl('127.0.0.1', 27017)\n",
    "db = client['jobs']\n",
    "vocations = db.vocations\n",
    "vocations.create_index('link', unique=True)\n",
    "def to_mongo(lst):\n",
    "    for doc in lst:\n",
    "        try:\n",
    "            vocations.insert_one(doc)\n",
    "        except:\n",
    "            continue\n",
    "    return"
   ]
  },
  {
   "cell_type": "code",
   "execution_count": 13,
   "id": "5bf5315a",
   "metadata": {},
   "outputs": [],
   "source": [
    "to_mongo(sj.job_list)"
   ]
  },
  {
   "cell_type": "code",
   "execution_count": 14,
   "id": "3deccdec",
   "metadata": {},
   "outputs": [],
   "source": [
    "to_mongo(hh.job_list)"
   ]
  },
  {
   "cell_type": "markdown",
   "id": "d5f96a73",
   "metadata": {},
   "source": [
    "### Задача 2"
   ]
  },
  {
   "cell_type": "code",
   "execution_count": 15,
   "id": "ed0adb4e",
   "metadata": {},
   "outputs": [],
   "source": [
    "def disired_job(desired_salary, i=10):\n",
    "    n = 0\n",
    "    for doc in vocations.find({\n",
    "        '$or': [\n",
    "            {'max_salary': {'$gte': desired_salary}},\n",
    "            {'min_salary': {'$gte': desired_salary}}\n",
    "        ]\n",
    "}):\n",
    "        pprint(doc)\n",
    "        n += 1\n",
    "        if i == n:\n",
    "            break\n",
    "    return"
   ]
  },
  {
   "cell_type": "code",
   "execution_count": 16,
   "id": "13337d24",
   "metadata": {
    "scrolled": false
   },
   "outputs": [
    {
     "name": "stdout",
     "output_type": "stream",
     "text": [
      "{'_id': ObjectId('619bad17a93f31e9173c09ac'),\n",
      " 'currency': 'руб.',\n",
      " 'link': 'https://russia.superjob.ru/vakansii/python-django-fullstack-razrabotchik-39274896.html',\n",
      " 'max_salary': 200000,\n",
      " 'min_salary': 200000,\n",
      " 'site_from': 'https://russia.superjob.ru',\n",
      " 'vocation': 'Python Django fullstack разработчик'}\n",
      "{'_id': ObjectId('619bad17a93f31e9173c09af'),\n",
      " 'currency': 'руб.',\n",
      " 'link': 'https://russia.superjob.ru/vakansii/razrabotchik-python-40248418.html',\n",
      " 'max_salary': 125000,\n",
      " 'min_salary': 100000,\n",
      " 'site_from': 'https://russia.superjob.ru',\n",
      " 'vocation': 'Разработчик Python'}\n",
      "{'_id': ObjectId('619bad17a93f31e9173c09b0'),\n",
      " 'currency': 'руб.',\n",
      " 'link': 'https://russia.superjob.ru/vakansii/python-backend-developer-39814546.html',\n",
      " 'max_salary': 100000,\n",
      " 'min_salary': 80000,\n",
      " 'site_from': 'https://russia.superjob.ru',\n",
      " 'vocation': 'Python backend developer'}\n",
      "{'_id': ObjectId('619bad17a93f31e9173c09b1'),\n",
      " 'currency': 'руб.',\n",
      " 'link': 'https://russia.superjob.ru/vakansii/python-developer-39812948.html',\n",
      " 'max_salary': 350000,\n",
      " 'min_salary': 350000,\n",
      " 'site_from': 'https://russia.superjob.ru',\n",
      " 'vocation': 'Python Developer'}\n",
      "{'_id': ObjectId('619bad17a93f31e9173c09b2'),\n",
      " 'currency': 'руб.',\n",
      " 'link': 'https://russia.superjob.ru/vakansii/senior-automation-engineer-40231557.html',\n",
      " 'max_salary': 225000,\n",
      " 'min_salary': 200000,\n",
      " 'site_from': 'https://russia.superjob.ru',\n",
      " 'vocation': 'Senior Automation Engineer (Python)'}\n"
     ]
    }
   ],
   "source": [
    "disired_job(50000, 5)"
   ]
  }
 ],
 "metadata": {
  "kernelspec": {
   "display_name": "Python 3 (ipykernel)",
   "language": "python",
   "name": "python3"
  },
  "language_info": {
   "codemirror_mode": {
    "name": "ipython",
    "version": 3
   },
   "file_extension": ".py",
   "mimetype": "text/x-python",
   "name": "python",
   "nbconvert_exporter": "python",
   "pygments_lexer": "ipython3",
   "version": "3.9.7"
  }
 },
 "nbformat": 4,
 "nbformat_minor": 5
}
