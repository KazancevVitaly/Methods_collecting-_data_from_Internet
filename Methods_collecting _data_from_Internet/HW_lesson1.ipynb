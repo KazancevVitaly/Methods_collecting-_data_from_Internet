{
 "cells": [
  {
   "cell_type": "markdown",
   "id": "8b15daa1",
   "metadata": {},
   "source": [
    "# ДЗ Урока 1\n",
    "## Казанцев Виталий\n"
   ]
  },
  {
   "cell_type": "code",
   "execution_count": null,
   "id": "ce61a112",
   "metadata": {},
   "outputs": [],
   "source": []
  }
 ],
 "metadata": {
  "kernelspec": {
   "display_name": "Python 3",
   "language": "python",
   "name": "python3"
  },
  "language_info": {
   "codemirror_mode": {
    "name": "ipython",
    "version": 3
   },
   "file_extension": ".py",
   "mimetype": "text/x-python",
   "name": "python",
   "nbconvert_exporter": "python",
   "pygments_lexer": "ipython3",
   "version": "3.8.8"
  }
 },
 "nbformat": 4,
 "nbformat_minor": 5
}
