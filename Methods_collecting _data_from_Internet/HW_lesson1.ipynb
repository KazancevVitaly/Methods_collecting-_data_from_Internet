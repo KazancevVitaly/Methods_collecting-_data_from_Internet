{
 "cells": [
  {
   "cell_type": "markdown",
   "id": "8b15daa1",
   "metadata": {},
   "source": [
    "# ДЗ Урока 1\n",
    "## Казанцев Виталий\n"
   ]
  },
  {
   "cell_type": "markdown",
   "id": "b215d8e6",
   "metadata": {},
   "source": [
    "### Задача 1. \n",
    "* A Посмотреть документацию к API GitHub, \n",
    "* B разобраться как вывести список репозиториев для конкретного пользователя, \n",
    "* C сохранить JSON-вывод в файле *.json.\n"
   ]
  },
  {
   "cell_type": "code",
   "execution_count": 10,
   "id": "ce61a112",
   "metadata": {},
   "outputs": [],
   "source": [
    "import requests\n",
    "import json\n",
    "import environs"
   ]
  },
  {
   "cell_type": "code",
   "execution_count": 2,
   "id": "7e3547bd",
   "metadata": {},
   "outputs": [],
   "source": [
    "env = environs.Env()\n",
    "env.read_env('.env')"
   ]
  },
  {
   "cell_type": "code",
   "execution_count": 3,
   "id": "bc307ac9",
   "metadata": {},
   "outputs": [],
   "source": [
    "GITHUB_TOKEN = env('GITHUB_TOKEN')\n",
    "USER_NAME = 'KazancevVitaly'\n",
    "URL = f'https://api.github.com/users/{USER_NAME}/repos'"
   ]
  },
  {
   "cell_type": "code",
   "execution_count": 4,
   "id": "be5f9649",
   "metadata": {
    "scrolled": false
   },
   "outputs": [],
   "source": [
    "response = requests.get(URL)\n",
    "r_json = response.json()"
   ]
  },
  {
   "cell_type": "code",
   "execution_count": 5,
   "id": "a78ea7b7",
   "metadata": {
    "scrolled": false
   },
   "outputs": [
    {
     "name": "stdout",
     "output_type": "stream",
     "text": [
      "0) algos_python_intercours\n",
      "1) basics_of_relational_databases\n",
      "2) django_optimization_tools\n",
      "3) geekbrains_lessons\n",
      "4) geekshop-template\n",
      "5) Introduction_to_Higher_Math\n",
      "6) javaScriptGeekBrains\n",
      "7) Methods_collecting_data_from_Internet\n",
      "8) python_algos_gb\n",
      "9) Python_for_DataScience\n",
      "10) sql_test_program\n"
     ]
    }
   ],
   "source": [
    "for rep in r_json:\n",
    "    if not rep['private']:\n",
    "        print(f'{r_json.index(rep)}{\")\"} {rep[\"name\"]}')"
   ]
  },
  {
   "cell_type": "code",
   "execution_count": 6,
   "id": "c6413332",
   "metadata": {},
   "outputs": [],
   "source": [
    "with open('repos.json', 'w') as outfile:\n",
    "    json.dump(r_json, outfile)"
   ]
  },
  {
   "cell_type": "markdown",
   "id": "2a84f22c",
   "metadata": {},
   "source": [
    "### Задача 2. \n",
    "* A Изучить список открытых API (https://www.programmableweb.com/category/all/apis). \n",
    "* B Найти среди них любое, требующее авторизацию (любого типа). \n",
    "* C Выполнить запросы к нему, пройдя авторизацию. \n",
    "* D Ответ сервера записать в файл."
   ]
  },
  {
   "cell_type": "code",
   "execution_count": 12,
   "id": "6b8664bf",
   "metadata": {},
   "outputs": [
    {
     "ename": "EnvError",
     "evalue": "Environment variable \"USER_ID_VK\" not set",
     "output_type": "error",
     "traceback": [
      "\u001b[0;31m---------------------------------------------------------------------------\u001b[0m",
      "\u001b[0;31mEnvError\u001b[0m                                  Traceback (most recent call last)",
      "\u001b[0;32m/tmp/ipykernel_36653/4075516025.py\u001b[0m in \u001b[0;36m<module>\u001b[0;34m\u001b[0m\n\u001b[1;32m      2\u001b[0m \u001b[0;31m# VK_TOKEN = env('VK_TOKEN')\u001b[0m\u001b[0;34m\u001b[0m\u001b[0;34m\u001b[0m\u001b[0m\n\u001b[1;32m      3\u001b[0m \u001b[0;31m# VK_EXPIRES_IN = env('VK_EXPIRES_IN')\u001b[0m\u001b[0;34m\u001b[0m\u001b[0;34m\u001b[0m\u001b[0m\n\u001b[0;32m----> 4\u001b[0;31m \u001b[0mUSER_ID_VK\u001b[0m \u001b[0;34m=\u001b[0m \u001b[0menv\u001b[0m\u001b[0;34m(\u001b[0m\u001b[0;34m'USER_ID_VK'\u001b[0m\u001b[0;34m)\u001b[0m\u001b[0;34m\u001b[0m\u001b[0;34m\u001b[0m\u001b[0m\n\u001b[0m",
      "\u001b[0;32m~/anaconda3/envs/mcd/lib/python3.9/site-packages/environs/__init__.py\u001b[0m in \u001b[0;36mmethod\u001b[0;34m(self, name, default, subcast, load_default, missing, validate, required, allow_none, error_messages, metadata, **kwargs)\u001b[0m\n\u001b[1;32m    108\u001b[0m         \u001b[0;32mif\u001b[0m \u001b[0mvalue\u001b[0m \u001b[0;32mis\u001b[0m \u001b[0mma\u001b[0m\u001b[0;34m.\u001b[0m\u001b[0mmissing\u001b[0m\u001b[0;34m:\u001b[0m\u001b[0;34m\u001b[0m\u001b[0;34m\u001b[0m\u001b[0m\n\u001b[1;32m    109\u001b[0m             \u001b[0;32mif\u001b[0m \u001b[0mself\u001b[0m\u001b[0;34m.\u001b[0m\u001b[0meager\u001b[0m\u001b[0;34m:\u001b[0m\u001b[0;34m\u001b[0m\u001b[0;34m\u001b[0m\u001b[0m\n\u001b[0;32m--> 110\u001b[0;31m                 \u001b[0;32mraise\u001b[0m \u001b[0mEnvError\u001b[0m\u001b[0;34m(\u001b[0m\u001b[0;34m'Environment variable \"{}\" not set'\u001b[0m\u001b[0;34m.\u001b[0m\u001b[0mformat\u001b[0m\u001b[0;34m(\u001b[0m\u001b[0mproxied_key\u001b[0m \u001b[0;32mor\u001b[0m \u001b[0mparsed_key\u001b[0m\u001b[0;34m)\u001b[0m\u001b[0;34m)\u001b[0m\u001b[0;34m\u001b[0m\u001b[0;34m\u001b[0m\u001b[0m\n\u001b[0m\u001b[1;32m    111\u001b[0m             \u001b[0;32melse\u001b[0m\u001b[0;34m:\u001b[0m\u001b[0;34m\u001b[0m\u001b[0;34m\u001b[0m\u001b[0m\n\u001b[1;32m    112\u001b[0m                 \u001b[0mself\u001b[0m\u001b[0;34m.\u001b[0m\u001b[0m_errors\u001b[0m\u001b[0;34m[\u001b[0m\u001b[0mparsed_key\u001b[0m\u001b[0;34m]\u001b[0m\u001b[0;34m.\u001b[0m\u001b[0mappend\u001b[0m\u001b[0;34m(\u001b[0m\u001b[0;34m\"Environment variable not set.\"\u001b[0m\u001b[0;34m)\u001b[0m\u001b[0;34m\u001b[0m\u001b[0;34m\u001b[0m\u001b[0m\n",
      "\u001b[0;31mEnvError\u001b[0m: Environment variable \"USER_ID_VK\" not set"
     ]
    }
   ],
   "source": [
    "APP_ID_VK = env('APP_ID_VK')\n",
    "VK_TOKEN = env('VK_TOKEN')\n",
    "VK_EXPIRES_IN = env('VK_EXPIRES_IN')\n",
    "USER_ID_VK = env('USER_ID_VK')"
   ]
  },
  {
   "cell_type": "code",
   "execution_count": null,
   "id": "af50e69c",
   "metadata": {},
   "outputs": [],
   "source": []
  }
 ],
 "metadata": {
  "kernelspec": {
   "display_name": "Python 3 (ipykernel)",
   "language": "python",
   "name": "python3"
  },
  "language_info": {
   "codemirror_mode": {
    "name": "ipython",
    "version": 3
   },
   "file_extension": ".py",
   "mimetype": "text/x-python",
   "name": "python",
   "nbconvert_exporter": "python",
   "pygments_lexer": "ipython3",
   "version": "3.9.7"
  }
 },
 "nbformat": 4,
 "nbformat_minor": 5
}
