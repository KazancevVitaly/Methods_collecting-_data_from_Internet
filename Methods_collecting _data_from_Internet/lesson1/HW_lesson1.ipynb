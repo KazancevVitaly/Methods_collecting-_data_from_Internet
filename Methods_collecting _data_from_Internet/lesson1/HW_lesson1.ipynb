{
 "cells": [
  {
   "cell_type": "markdown",
   "id": "8b15daa1",
   "metadata": {},
   "source": [
    "# ДЗ Урока 1\n",
    "## Казанцев Виталий\n"
   ]
  },
  {
   "cell_type": "markdown",
   "id": "b215d8e6",
   "metadata": {},
   "source": [
    "### Задача 1. \n",
    "* A Посмотреть документацию к API GitHub, \n",
    "* B разобраться как вывести список репозиториев для конкретного пользователя, \n",
    "* C сохранить JSON-вывод в файле *.json.\n"
   ]
  },
  {
   "cell_type": "code",
   "execution_count": 1,
   "id": "ce61a112",
   "metadata": {},
   "outputs": [],
   "source": [
    "import requests\n",
    "import json\n",
    "import environs"
   ]
  },
  {
   "cell_type": "code",
   "execution_count": 2,
   "id": "7e3547bd",
   "metadata": {},
   "outputs": [],
   "source": [
    "env = environs.Env()\n",
    "env.read_env('.env')"
   ]
  },
  {
   "cell_type": "code",
   "execution_count": 3,
   "id": "bc307ac9",
   "metadata": {},
   "outputs": [],
   "source": [
    "GITHUB_TOKEN = env('GITHUB_TOKEN')\n",
    "USER_NAME = 'KazancevVitaly'\n",
    "URL = f'https://api.github.com/users/{USER_NAME}/repos'"
   ]
  },
  {
   "cell_type": "code",
   "execution_count": 4,
   "id": "be5f9649",
   "metadata": {
    "scrolled": false
   },
   "outputs": [],
   "source": [
    "response = requests.get(URL)\n",
    "r_json = response.json()"
   ]
  },
  {
   "cell_type": "code",
   "execution_count": 5,
   "id": "a78ea7b7",
   "metadata": {
    "scrolled": false
   },
   "outputs": [
    {
     "name": "stdout",
     "output_type": "stream",
     "text": [
      "0) algos_python_intercours\n",
      "1) basics_of_relational_databases\n",
      "2) django_optimization_tools\n",
      "3) geekbrains_lessons\n",
      "4) geekshop-template\n",
      "5) Introduction_to_Higher_Math\n",
      "6) javaScriptGeekBrains\n",
      "7) Methods_collecting_data_from_Internet\n",
      "8) python_algos_gb\n",
      "9) Python_for_DataScience\n",
      "10) sql_test_program\n"
     ]
    }
   ],
   "source": [
    "for rep in r_json:\n",
    "    if not rep['private']:\n",
    "        print(f'{r_json.index(rep)}{\")\"} {rep[\"name\"]}')"
   ]
  },
  {
   "cell_type": "code",
   "execution_count": 6,
   "id": "c6413332",
   "metadata": {},
   "outputs": [],
   "source": [
    "with open('repos.json', 'w') as outfile:\n",
    "    json.dump(r_json, outfile)"
   ]
  },
  {
   "cell_type": "markdown",
   "id": "2a84f22c",
   "metadata": {},
   "source": [
    "### Задача 2. \n",
    "* A Изучить список открытых API (https://www.programmableweb.com/category/all/apis). \n",
    "* B Найти среди них любое, требующее авторизацию (любого типа). \n",
    "* C Выполнить запросы к нему, пройдя авторизацию. \n",
    "* D Ответ сервера записать в файл."
   ]
  },
  {
   "cell_type": "code",
   "execution_count": 7,
   "id": "6b8664bf",
   "metadata": {},
   "outputs": [],
   "source": [
    "APP_ID_VK = env('APP_ID_VK')\n",
    "VK_TOKEN = env('VK_TOKEN')\n",
    "USER_ID_VK = env('USER_ID_VK')\n",
    "URL_VK = ('https://api.vk.com/method/friends.get')\n",
    "params = {\n",
    "    'user_ids': USER_ID_VK,\n",
    "    'access_token': VK_TOKEN,\n",
    "    'fields': 'nickname',\n",
    "    'order': 'hints',\n",
    "    'v': 5.131\n",
    "}"
   ]
  },
  {
   "cell_type": "code",
   "execution_count": 8,
   "id": "af50e69c",
   "metadata": {},
   "outputs": [],
   "source": [
    "vk_response = requests.get(URL_VK, params=params)\n",
    "vk_json = vk_response.json()\n"
   ]
  },
  {
   "cell_type": "code",
   "execution_count": 9,
   "id": "4bde8316",
   "metadata": {
    "scrolled": false
   },
   "outputs": [],
   "source": [
    "with open('vk_usersfriends.json', 'w') as outfile:\n",
    "    json.dump(r_json, outfile)"
   ]
  }
 ],
 "metadata": {
  "kernelspec": {
   "display_name": "Python 3 (ipykernel)",
   "language": "python",
   "name": "python3"
  },
  "language_info": {
   "codemirror_mode": {
    "name": "ipython",
    "version": 3
   },
   "file_extension": ".py",
   "mimetype": "text/x-python",
   "name": "python",
   "nbconvert_exporter": "python",
   "pygments_lexer": "ipython3",
   "version": "3.9.7"
  }
 },
 "nbformat": 4,
 "nbformat_minor": 5
}
