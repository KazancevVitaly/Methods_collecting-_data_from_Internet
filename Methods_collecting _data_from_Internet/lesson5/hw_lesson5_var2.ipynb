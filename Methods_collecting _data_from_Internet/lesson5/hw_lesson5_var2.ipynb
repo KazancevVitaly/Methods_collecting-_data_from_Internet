{
 "cells": [
  {
   "cell_type": "code",
   "execution_count": 1,
   "id": "3faf2b95",
   "metadata": {},
   "outputs": [],
   "source": [
    "import environs\n",
    "from selenium import webdriver\n",
    "from selenium.webdriver.common.by import By\n",
    "from selenium.webdriver.common.keys import Keys\n",
    "from selenium.webdriver.chrome.options import Options\n",
    "from selenium.common import exceptions\n",
    "from selenium.webdriver.common.action_chains import ActionChains\n",
    "from datetime import date\n",
    "import time\n",
    "from pprint import pprint\n",
    "import pandas as pd"
   ]
  },
  {
   "cell_type": "code",
   "execution_count": 2,
   "id": "c7e34e42",
   "metadata": {},
   "outputs": [],
   "source": [
    "# goods_category = input('Укажитенаименование товара:\\n')\n",
    "goods_category = 'Фитнес браслет'\n",
    "driver = webdriver.Chrome(executable_path='./chromedriver')\n",
    "driver.implicitly_wait(10)\n",
    "driver.fullscreen_window()\n",
    "driver.get('https://www.wildberries.ru/')"
   ]
  },
  {
   "cell_type": "code",
   "execution_count": 3,
   "id": "77bc8fd5",
   "metadata": {},
   "outputs": [],
   "source": [
    "elem = driver.find_element(By.CLASS_NAME, 'nav-element__search')\n",
    "elem.click()"
   ]
  },
  {
   "cell_type": "code",
   "execution_count": 4,
   "id": "8846397e",
   "metadata": {},
   "outputs": [],
   "source": [
    "elem = driver.find_element(By.ID, 'mobileSearchInput')\n",
    "elem.send_keys(goods_category)"
   ]
  },
  {
   "cell_type": "code",
   "execution_count": 5,
   "id": "dc9cdb5b",
   "metadata": {},
   "outputs": [],
   "source": [
    "elem.send_keys(Keys.ENTER)"
   ]
  },
  {
   "cell_type": "code",
   "execution_count": 6,
   "id": "c82c1b62",
   "metadata": {},
   "outputs": [],
   "source": [
    "# goods = driver.find_elements(By.CLASS_NAME, 'product-card')"
   ]
  },
  {
   "cell_type": "code",
   "execution_count": null,
   "id": "7f6bc583",
   "metadata": {},
   "outputs": [],
   "source": [
    "goods_list = []\n",
    "while True:\n",
    "    \n",
    "    goods = driver.find_elements(By.CLASS_NAME, 'product-card')\n",
    "    \n",
    "    for i in range(len(goods)):\n",
    "        if i > 0:\n",
    "            goods = driver.find_elements(By.CLASS_NAME, 'product-card')\n",
    "        try:\n",
    "            goods[i].click()\n",
    "        except exceptions.ElementNotInteractableException:\n",
    "            break\n",
    "        time.sleep(3)\n",
    "        goods_data = {}\n",
    "        try:\n",
    "            brand = driver.find_elements(By.XPATH, '//span[@data-link=\"text{:product^brandName}\"]')[1].text\n",
    "        except IndexError:\n",
    "            break\n",
    "        name = driver.find_elements(By.XPATH, '//span[@data-link=\"text{:product^goodsName}\"]')[1].text\n",
    "        price = driver.find_element(By.CLASS_NAME, 'price-block__price-wrap').text\n",
    "        price = price.split('\\n')\n",
    "        seller = driver.find_element(By.CLASS_NAME, 'seller__name').text\n",
    "        number_sales = driver.find_elements(By.XPATH, '//span[contains(@data-link, \"productCardOrderCount\")]')[1].text\n",
    "        link = driver.current_url\n",
    "        raiting = driver.find_elements(By.XPATH, '//span[@data-link=\"text{: product^star}\"]')[1].text\n",
    "        reviews_number = driver.find_elements(By.CLASS_NAME, 'same-part-kt__count-review')[1].text\n",
    "        goods_data['Наименование товара'] = name\n",
    "        goods_data['Брэнд'] = brand\n",
    "        try:\n",
    "            goods_data['Цена со скидкой'] = price[0]\n",
    "        except IndexError:\n",
    "            goods_data['Цена со скидкой'] = None\n",
    "        try:\n",
    "            goods_data['Цена без скидки'] = price[1]\n",
    "        except IndexError:\n",
    "            goods_data['Цена без скидки'] = price[0]\n",
    "        goods_data['Продавец'] = seller\n",
    "        goods_data['Количество продаж'] = number_sales\n",
    "        goods_data['Ссылка на товар'] = link\n",
    "        goods_data['Рейтинг товара'] = raiting\n",
    "        goods_data['Количество отзывов'] = reviews_number\n",
    "        goods_list.append(goods_data)\n",
    "        next_good = driver.find_element(By.CLASS_NAME, 'sw-slider-kt-mix__btn')\n",
    "        next_good.click()\n",
    "        time.sleep(3)\n",
    "        \n",
    "    try:\n",
    "        next_page = driver.find_elements(By.CLASS_NAME, 'pagination__next')[0].get_attribute('href')\n",
    "        driver.get(next_page)\n",
    "        time.sleep(3)\n",
    "    except IndexError:\n",
    "        break"
   ]
  },
  {
   "cell_type": "code",
   "execution_count": null,
   "id": "25306c38",
   "metadata": {},
   "outputs": [],
   "source": [
    "len(goods_list)    # mast be > 6500"
   ]
  },
  {
   "cell_type": "code",
   "execution_count": null,
   "id": "f3b70c2c",
   "metadata": {},
   "outputs": [],
   "source": [
    "df = pd.DataFrame(goods_list) \n",
    "df.tail()"
   ]
  },
  {
   "cell_type": "code",
   "execution_count": null,
   "id": "b01c09a5",
   "metadata": {},
   "outputs": [],
   "source": [
    "df.to_excel('men_running_shoes.xlsx')"
   ]
  }
 ],
 "metadata": {
  "kernelspec": {
   "display_name": "Python 3 (ipykernel)",
   "language": "python",
   "name": "python3"
  },
  "language_info": {
   "codemirror_mode": {
    "name": "ipython",
    "version": 3
   },
   "file_extension": ".py",
   "mimetype": "text/x-python",
   "name": "python",
   "nbconvert_exporter": "python",
   "pygments_lexer": "ipython3",
   "version": "3.9.7"
  }
 },
 "nbformat": 4,
 "nbformat_minor": 5
}
