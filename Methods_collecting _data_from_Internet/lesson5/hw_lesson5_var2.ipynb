{
 "cells": [
  {
   "cell_type": "code",
   "execution_count": 1,
   "id": "3faf2b95",
   "metadata": {},
   "outputs": [],
   "source": [
    "import environs\n",
    "from selenium import webdriver\n",
    "from selenium.webdriver.common.by import By\n",
    "from selenium.webdriver.common.keys import Keys\n",
    "from selenium.webdriver.chrome.options import Options\n",
    "from selenium.common import exceptions\n",
    "from selenium.webdriver.common.action_chains import ActionChains\n",
    "from datetime import date\n",
    "import time\n",
    "from pprint import pprint\n",
    "import pandas as pd"
   ]
  },
  {
   "cell_type": "code",
   "execution_count": 2,
   "id": "c7e34e42",
   "metadata": {},
   "outputs": [],
   "source": [
    "# goods_category = input('Укажитенаименование товара:\\n')\n",
    "goods_category = 'Фитнес браслет'\n",
    "driver = webdriver.Chrome(executable_path='./chromedriver')\n",
    "driver.implicitly_wait(10)\n",
    "driver.fullscreen_window()\n",
    "driver.get('https://www.wildberries.ru/')"
   ]
  },
  {
   "cell_type": "code",
   "execution_count": 3,
   "id": "77bc8fd5",
   "metadata": {},
   "outputs": [],
   "source": [
    "elem = driver.find_element(By.CLASS_NAME, 'nav-element__search')\n",
    "elem.click()"
   ]
  },
  {
   "cell_type": "code",
   "execution_count": 4,
   "id": "8846397e",
   "metadata": {},
   "outputs": [],
   "source": [
    "elem = driver.find_element(By.ID, 'mobileSearchInput')\n",
    "elem.send_keys(goods_category)"
   ]
  },
  {
   "cell_type": "code",
   "execution_count": 5,
   "id": "dc9cdb5b",
   "metadata": {},
   "outputs": [],
   "source": [
    "elem.send_keys(Keys.ENTER)"
   ]
  },
  {
   "cell_type": "code",
   "execution_count": 6,
   "id": "c82c1b62",
   "metadata": {},
   "outputs": [],
   "source": [
    "# goods = driver.find_elements(By.CLASS_NAME, 'product-card')"
   ]
  },
  {
   "cell_type": "code",
   "execution_count": 7,
   "id": "7f6bc583",
   "metadata": {},
   "outputs": [],
   "source": [
    "goods_list = []\n",
    "# while True:\n",
    "# Это если вдруг нужны все товары со всех страниц\n",
    "for j in range(5):\n",
    "    \n",
    "    goods = driver.find_elements(By.CLASS_NAME, 'product-card')\n",
    "    \n",
    "    for i in range(len(goods)):\n",
    "        if i > 0:\n",
    "            goods = driver.find_elements(By.CLASS_NAME, 'product-card')\n",
    "        try:\n",
    "            goods[i].click()\n",
    "        except exceptions.ElementNotInteractableException:\n",
    "            # На последнем товаре на странице либо это исключение\n",
    "            break\n",
    "        time.sleep(3)\n",
    "        goods_data = {}\n",
    "        try:\n",
    "            brand = driver.find_elements(By.XPATH, '//span[@data-link=\"text{:product^brandName}\"]')[1].text\n",
    "        except IndexError:\n",
    "            # Либо IndexError\n",
    "            break\n",
    "        name = driver.find_elements(By.XPATH, '//span[@data-link=\"text{:product^goodsName}\"]')[1].text\n",
    "        price = driver.find_element(By.CLASS_NAME, 'price-block__price-wrap').text\n",
    "        price = price.split('\\n')\n",
    "        seller = driver.find_element(By.CLASS_NAME, 'seller__name').text\n",
    "        number_sales = driver.find_elements(By.XPATH, '//span[contains(@data-link, \"productCardOrderCount\")]')[1].text\n",
    "        link = driver.current_url\n",
    "        raiting = driver.find_elements(By.XPATH, '//span[@data-link=\"text{: product^star}\"]')[1].text\n",
    "        reviews_number = driver.find_elements(By.CLASS_NAME, 'same-part-kt__count-review')[1].text\n",
    "        goods_data['Наименование товара'] = name\n",
    "        goods_data['Брэнд'] = brand\n",
    "        try:\n",
    "            goods_data['Цена со скидкой'] = price[0]\n",
    "        except IndexError:\n",
    "            goods_data['Цена со скидкой'] = None\n",
    "        try:\n",
    "            goods_data['Цена без скидки'] = price[1]\n",
    "        except IndexError:\n",
    "            goods_data['Цена без скидки'] = price[0]\n",
    "        goods_data['Продавец'] = seller\n",
    "        goods_data['Количество продаж'] = number_sales\n",
    "        goods_data['Ссылка на товар'] = link\n",
    "        goods_data['Рейтинг товара'] = raiting\n",
    "        goods_data['Количество отзывов'] = reviews_number\n",
    "        goods_list.append(goods_data)\n",
    "        next_good = driver.find_element(By.CLASS_NAME, 'sw-slider-kt-mix__btn')\n",
    "        next_good.click()\n",
    "        time.sleep(3)\n",
    "        \n",
    "    try:\n",
    "        next_page = driver.find_elements(By.CLASS_NAME, 'pagination__next')[0].get_attribute('href')\n",
    "        driver.get(next_page)\n",
    "        time.sleep(3)\n",
    "    except IndexError:\n",
    "        # Если while True на последней странице срабатывает данное исключение\n",
    "        break"
   ]
  },
  {
   "cell_type": "code",
   "execution_count": 12,
   "id": "2e9af260",
   "metadata": {},
   "outputs": [
    {
     "name": "stdout",
     "output_type": "stream",
     "text": [
      "60\n"
     ]
    }
   ],
   "source": [
    "n = 0\n",
    "while True:\n",
    "    try:\n",
    "        next_page = driver.find_elements(By.CLASS_NAME, 'pagination__next')[0].get_attribute('href')\n",
    "        driver.get(next_page)\n",
    "        time.sleep(3)\n",
    "    except IndexError:\n",
    "        break\n",
    "    n += 1\n",
    "\n",
    "print(n)"
   ]
  },
  {
   "cell_type": "code",
   "execution_count": 8,
   "id": "25306c38",
   "metadata": {},
   "outputs": [
    {
     "data": {
      "text/plain": [
       "504"
      ]
     },
     "execution_count": 8,
     "metadata": {},
     "output_type": "execute_result"
    }
   ],
   "source": [
    "len(goods_list)    "
   ]
  },
  {
   "cell_type": "code",
   "execution_count": 9,
   "id": "f3b70c2c",
   "metadata": {},
   "outputs": [
    {
     "data": {
      "text/html": [
       "<div>\n",
       "<style scoped>\n",
       "    .dataframe tbody tr th:only-of-type {\n",
       "        vertical-align: middle;\n",
       "    }\n",
       "\n",
       "    .dataframe tbody tr th {\n",
       "        vertical-align: top;\n",
       "    }\n",
       "\n",
       "    .dataframe thead th {\n",
       "        text-align: right;\n",
       "    }\n",
       "</style>\n",
       "<table border=\"1\" class=\"dataframe\">\n",
       "  <thead>\n",
       "    <tr style=\"text-align: right;\">\n",
       "      <th></th>\n",
       "      <th>Наименование товара</th>\n",
       "      <th>Брэнд</th>\n",
       "      <th>Цена со скидкой</th>\n",
       "      <th>Цена без скидки</th>\n",
       "      <th>Продавец</th>\n",
       "      <th>Количество продаж</th>\n",
       "      <th>Ссылка на товар</th>\n",
       "      <th>Рейтинг товара</th>\n",
       "      <th>Количество отзывов</th>\n",
       "    </tr>\n",
       "  </thead>\n",
       "  <tbody>\n",
       "    <tr>\n",
       "      <th>499</th>\n",
       "      <td>Фитнес-браслет / смарт часы / умные часы / фит...</td>\n",
       "      <td>BandRate Smart</td>\n",
       "      <td>5 805 ₽</td>\n",
       "      <td>13 500 ₽</td>\n",
       "      <td>ИП Солнцев Сергей Васильевич</td>\n",
       "      <td></td>\n",
       "      <td>https://www.wildberries.ru/catalog/27611180/de...</td>\n",
       "      <td>0</td>\n",
       "      <td>0 отзывов</td>\n",
       "    </tr>\n",
       "    <tr>\n",
       "      <th>500</th>\n",
       "      <td>Фитнес-браслет / смарт часы для женщин / умные...</td>\n",
       "      <td>BandRate Smart</td>\n",
       "      <td>4 613 ₽</td>\n",
       "      <td>10 485 ₽</td>\n",
       "      <td>ИП Солнцев Сергей Васильевич</td>\n",
       "      <td></td>\n",
       "      <td>https://www.wildberries.ru/catalog/27650648/de...</td>\n",
       "      <td>0</td>\n",
       "      <td>0 отзывов</td>\n",
       "    </tr>\n",
       "    <tr>\n",
       "      <th>501</th>\n",
       "      <td>Фитнес-браслет</td>\n",
       "      <td>EPSAR</td>\n",
       "      <td>574 ₽</td>\n",
       "      <td>820 ₽</td>\n",
       "      <td>ИП Муцольгов Микаил Тарханович</td>\n",
       "      <td>более 10 раз</td>\n",
       "      <td>https://www.wildberries.ru/catalog/33883701/de...</td>\n",
       "      <td>2</td>\n",
       "      <td>7 отзывов</td>\n",
       "    </tr>\n",
       "    <tr>\n",
       "      <th>502</th>\n",
       "      <td>Умные часы, профессиональная серия. ЭКГ, давле...</td>\n",
       "      <td>37degree</td>\n",
       "      <td>4 454 ₽</td>\n",
       "      <td>16 000 ₽</td>\n",
       "      <td>ИП Смирнов Олег Сергеевич</td>\n",
       "      <td>более 200 раз</td>\n",
       "      <td>https://www.wildberries.ru/catalog/15960301/de...</td>\n",
       "      <td>4</td>\n",
       "      <td>41 отзыв</td>\n",
       "    </tr>\n",
       "    <tr>\n",
       "      <th>503</th>\n",
       "      <td>Фитнес-браслет M6 русская прошивка с магнитной...</td>\n",
       "      <td>Фитнес браслет</td>\n",
       "      <td>525 ₽</td>\n",
       "      <td>1 788 ₽</td>\n",
       "      <td>ИП Ацапин Денис Алексеевич</td>\n",
       "      <td>более 40 раз</td>\n",
       "      <td>https://www.wildberries.ru/catalog/41933995/de...</td>\n",
       "      <td>4</td>\n",
       "      <td>7 отзывов</td>\n",
       "    </tr>\n",
       "  </tbody>\n",
       "</table>\n",
       "</div>"
      ],
      "text/plain": [
       "                                   Наименование товара           Брэнд  \\\n",
       "499  Фитнес-браслет / смарт часы / умные часы / фит...  BandRate Smart   \n",
       "500  Фитнес-браслет / смарт часы для женщин / умные...  BandRate Smart   \n",
       "501                                     Фитнес-браслет           EPSAR   \n",
       "502  Умные часы, профессиональная серия. ЭКГ, давле...        37degree   \n",
       "503  Фитнес-браслет M6 русская прошивка с магнитной...  Фитнес браслет   \n",
       "\n",
       "    Цена со скидкой Цена без скидки                        Продавец  \\\n",
       "499         5 805 ₽        13 500 ₽    ИП Солнцев Сергей Васильевич   \n",
       "500         4 613 ₽        10 485 ₽    ИП Солнцев Сергей Васильевич   \n",
       "501           574 ₽           820 ₽  ИП Муцольгов Микаил Тарханович   \n",
       "502         4 454 ₽        16 000 ₽       ИП Смирнов Олег Сергеевич   \n",
       "503           525 ₽         1 788 ₽      ИП Ацапин Денис Алексеевич   \n",
       "\n",
       "    Количество продаж                                    Ссылка на товар  \\\n",
       "499                    https://www.wildberries.ru/catalog/27611180/de...   \n",
       "500                    https://www.wildberries.ru/catalog/27650648/de...   \n",
       "501      более 10 раз  https://www.wildberries.ru/catalog/33883701/de...   \n",
       "502     более 200 раз  https://www.wildberries.ru/catalog/15960301/de...   \n",
       "503      более 40 раз  https://www.wildberries.ru/catalog/41933995/de...   \n",
       "\n",
       "    Рейтинг товара Количество отзывов  \n",
       "499              0          0 отзывов  \n",
       "500              0          0 отзывов  \n",
       "501              2          7 отзывов  \n",
       "502              4           41 отзыв  \n",
       "503              4          7 отзывов  "
      ]
     },
     "execution_count": 9,
     "metadata": {},
     "output_type": "execute_result"
    }
   ],
   "source": [
    "df = pd.DataFrame(goods_list) \n",
    "df.tail()"
   ]
  },
  {
   "cell_type": "code",
   "execution_count": 10,
   "id": "b01c09a5",
   "metadata": {},
   "outputs": [],
   "source": [
    "df.to_excel('men_running_shoes.xlsx')"
   ]
  }
 ],
 "metadata": {
  "kernelspec": {
   "display_name": "Python 3 (ipykernel)",
   "language": "python",
   "name": "python3"
  },
  "language_info": {
   "codemirror_mode": {
    "name": "ipython",
    "version": 3
   },
   "file_extension": ".py",
   "mimetype": "text/x-python",
   "name": "python",
   "nbconvert_exporter": "python",
   "pygments_lexer": "ipython3",
   "version": "3.9.7"
  }
 },
 "nbformat": 4,
 "nbformat_minor": 5
}
