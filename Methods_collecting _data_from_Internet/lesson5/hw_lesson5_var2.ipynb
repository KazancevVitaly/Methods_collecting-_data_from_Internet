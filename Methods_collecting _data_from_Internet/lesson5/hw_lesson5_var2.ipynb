{
 "cells": [
  {
   "cell_type": "code",
   "execution_count": 1,
   "id": "3faf2b95",
   "metadata": {},
   "outputs": [],
   "source": [
    "import environs\n",
    "from selenium import webdriver\n",
    "from selenium.webdriver.common.by import By\n",
    "from selenium.webdriver.common.keys import Keys\n",
    "from selenium.webdriver.chrome.options import Options\n",
    "from selenium.common import exceptions\n",
    "from selenium.webdriver.common.action_chains import ActionChains\n",
    "from datetime import date\n",
    "import time\n",
    "from pprint import pprint\n",
    "import pandas as pd"
   ]
  },
  {
   "cell_type": "code",
   "execution_count": 2,
   "id": "c7e34e42",
   "metadata": {},
   "outputs": [
    {
     "name": "stdout",
     "output_type": "stream",
     "text": [
      "Укажитенаименование товара:\n",
      "кроссовки мужские\n"
     ]
    }
   ],
   "source": [
    "goods_category = input('Укажитенаименование товара:\\n')\n",
    "driver = webdriver.Chrome(executable_path='./chromedriver')\n",
    "driver.implicitly_wait(10)\n",
    "driver.fullscreen_window()\n",
    "driver.get('https://www.wildberries.ru/')"
   ]
  },
  {
   "cell_type": "code",
   "execution_count": 3,
   "id": "77bc8fd5",
   "metadata": {},
   "outputs": [],
   "source": [
    "elem = driver.find_element(By.CLASS_NAME, 'nav-element__search')\n",
    "elem.click()"
   ]
  },
  {
   "cell_type": "code",
   "execution_count": 4,
   "id": "8846397e",
   "metadata": {},
   "outputs": [],
   "source": [
    "elem = driver.find_element(By.ID, 'mobileSearchInput')\n",
    "elem.send_keys(goods_category)"
   ]
  },
  {
   "cell_type": "code",
   "execution_count": 5,
   "id": "dc9cdb5b",
   "metadata": {},
   "outputs": [],
   "source": [
    "elem.send_keys(Keys.ENTER)"
   ]
  },
  {
   "cell_type": "code",
   "execution_count": 6,
   "id": "c82c1b62",
   "metadata": {},
   "outputs": [],
   "source": [
    "goods = driver.find_elements(By.CLASS_NAME, 'product-card')"
   ]
  },
  {
   "cell_type": "code",
   "execution_count": 7,
   "id": "7f6bc583",
   "metadata": {},
   "outputs": [],
   "source": [
    "goods_list = []\n",
    "for i in range(len(goods)):\n",
    "    if i > 0:\n",
    "        goods = driver.find_elements(By.CLASS_NAME, 'product-card')\n",
    "    try:\n",
    "        goods[i].click()\n",
    "        time.sleep(3)\n",
    "        goods_data = {}\n",
    "        brand = driver.find_elements(By.XPATH, '//span[@data-link=\"text{:product^brandName}\"]')[1].text\n",
    "        name = driver.find_elements(By.XPATH, '//span[@data-link=\"text{:product^goodsName}\"]')[1].text\n",
    "        price = driver.find_element(By.CLASS_NAME, 'price-block__price-wrap').text\n",
    "        price = price.split('\\n')\n",
    "        seller = driver.find_element(By.CLASS_NAME, 'seller__name').text\n",
    "        number_sales = driver.find_elements(By.XPATH, '//span[contains(@data-link, \"productCardOrderCount\")]')[1].text\n",
    "        goods_data['Наименование товара'] = name\n",
    "        goods_data['Брэнд'] = brand\n",
    "        try:\n",
    "            goods_data['Цена со скидкой'] = price[0]\n",
    "        except IndexError:\n",
    "            goods_data['Цена со скидкой'] = None\n",
    "        try:\n",
    "            goods_data['Цена без скидки'] = price[1]\n",
    "        except IndexError:\n",
    "            goods_data['Цена без скидки'] = price[0]\n",
    "        goods_data['Продавец'] = seller\n",
    "        goods_data['Количество продаж'] = number_sales\n",
    "        goods_list.append(goods_data)\n",
    "        next_good = driver.find_element(By.CLASS_NAME, 'sw-slider-kt-mix__btn')\n",
    "        next_good.click()\n",
    "    except IndexError:\n",
    "        break\n",
    "    time.sleep(3)"
   ]
  },
  {
   "cell_type": "code",
   "execution_count": 8,
   "id": "25306c38",
   "metadata": {},
   "outputs": [
    {
     "data": {
      "text/plain": [
       "105"
      ]
     },
     "execution_count": 8,
     "metadata": {},
     "output_type": "execute_result"
    }
   ],
   "source": [
    "len(goods_list)"
   ]
  },
  {
   "cell_type": "code",
   "execution_count": 9,
   "id": "f3b70c2c",
   "metadata": {},
   "outputs": [
    {
     "data": {
      "text/html": [
       "<div>\n",
       "<style scoped>\n",
       "    .dataframe tbody tr th:only-of-type {\n",
       "        vertical-align: middle;\n",
       "    }\n",
       "\n",
       "    .dataframe tbody tr th {\n",
       "        vertical-align: top;\n",
       "    }\n",
       "\n",
       "    .dataframe thead th {\n",
       "        text-align: right;\n",
       "    }\n",
       "</style>\n",
       "<table border=\"1\" class=\"dataframe\">\n",
       "  <thead>\n",
       "    <tr style=\"text-align: right;\">\n",
       "      <th></th>\n",
       "      <th>Наименование товара</th>\n",
       "      <th>Брэнд</th>\n",
       "      <th>Цена со скидкой</th>\n",
       "      <th>Цена без скидки</th>\n",
       "      <th>Продавец</th>\n",
       "      <th>Количество продаж</th>\n",
       "    </tr>\n",
       "  </thead>\n",
       "  <tbody>\n",
       "    <tr>\n",
       "      <th>0</th>\n",
       "      <td>Кроссовки</td>\n",
       "      <td>ICON-TRADE</td>\n",
       "      <td>2 475 ₽</td>\n",
       "      <td>3 536 ₽</td>\n",
       "      <td>ИП Гончаров Дмитрий Владимирович</td>\n",
       "      <td>менее 5 раз</td>\n",
       "    </tr>\n",
       "    <tr>\n",
       "      <th>1</th>\n",
       "      <td>Кроссовки зимние/Кроссовки мужские/Кроссовки с...</td>\n",
       "      <td>SJ STYLE</td>\n",
       "      <td>2 980 ₽</td>\n",
       "      <td>5 400 ₽</td>\n",
       "      <td>ИП Супиев Айгун Низамиевич</td>\n",
       "      <td>более 10 раз</td>\n",
       "    </tr>\n",
       "    <tr>\n",
       "      <th>2</th>\n",
       "      <td>Кроссовки HOOPS 2.0 MID</td>\n",
       "      <td>adidas</td>\n",
       "      <td>4 412 ₽</td>\n",
       "      <td>6 999 ₽</td>\n",
       "      <td>ООО ВАЙЛДБЕРРИЗ</td>\n",
       "      <td>более 2 300 раз</td>\n",
       "    </tr>\n",
       "    <tr>\n",
       "      <th>3</th>\n",
       "      <td>Кроссовки HOOPS 2.0 MID</td>\n",
       "      <td>adidas</td>\n",
       "      <td>4 412 ₽</td>\n",
       "      <td>6 999 ₽</td>\n",
       "      <td>ООО ВАЙЛДБЕРРИЗ</td>\n",
       "      <td>более 8 800 раз</td>\n",
       "    </tr>\n",
       "    <tr>\n",
       "      <th>4</th>\n",
       "      <td>Кроссовки HOOPS 2.0 MID CARBON/CBLACK/WHITIN</td>\n",
       "      <td>adidas</td>\n",
       "      <td>4 412 ₽</td>\n",
       "      <td>6 999 ₽</td>\n",
       "      <td>ООО ВАЙЛДБЕРРИЗ</td>\n",
       "      <td>более 2 200 раз</td>\n",
       "    </tr>\n",
       "  </tbody>\n",
       "</table>\n",
       "</div>"
      ],
      "text/plain": [
       "                                 Наименование товара       Брэнд  \\\n",
       "0                                          Кроссовки  ICON-TRADE   \n",
       "1  Кроссовки зимние/Кроссовки мужские/Кроссовки с...    SJ STYLE   \n",
       "2                            Кроссовки HOOPS 2.0 MID      adidas   \n",
       "3                            Кроссовки HOOPS 2.0 MID      adidas   \n",
       "4       Кроссовки HOOPS 2.0 MID CARBON/CBLACK/WHITIN      adidas   \n",
       "\n",
       "  Цена со скидкой Цена без скидки                          Продавец  \\\n",
       "0         2 475 ₽         3 536 ₽  ИП Гончаров Дмитрий Владимирович   \n",
       "1         2 980 ₽         5 400 ₽        ИП Супиев Айгун Низамиевич   \n",
       "2         4 412 ₽         6 999 ₽                   ООО ВАЙЛДБЕРРИЗ   \n",
       "3         4 412 ₽         6 999 ₽                   ООО ВАЙЛДБЕРРИЗ   \n",
       "4         4 412 ₽         6 999 ₽                   ООО ВАЙЛДБЕРРИЗ   \n",
       "\n",
       "  Количество продаж  \n",
       "0       менее 5 раз  \n",
       "1      более 10 раз  \n",
       "2   более 2 300 раз  \n",
       "3   более 8 800 раз  \n",
       "4   более 2 200 раз  "
      ]
     },
     "execution_count": 9,
     "metadata": {},
     "output_type": "execute_result"
    }
   ],
   "source": [
    "df = pd.DataFrame(goods_list)\n",
    "df.head()"
   ]
  },
  {
   "cell_type": "code",
   "execution_count": 10,
   "id": "b01c09a5",
   "metadata": {},
   "outputs": [],
   "source": [
    "df.to_excel('men_running_shoes.xlsx')"
   ]
  },
  {
   "cell_type": "code",
   "execution_count": null,
   "id": "58b77010",
   "metadata": {},
   "outputs": [],
   "source": []
  },
  {
   "cell_type": "code",
   "execution_count": null,
   "id": "e66e5fef",
   "metadata": {},
   "outputs": [],
   "source": []
  }
 ],
 "metadata": {
  "kernelspec": {
   "display_name": "Python 3 (ipykernel)",
   "language": "python",
   "name": "python3"
  },
  "language_info": {
   "codemirror_mode": {
    "name": "ipython",
    "version": 3
   },
   "file_extension": ".py",
   "mimetype": "text/x-python",
   "name": "python",
   "nbconvert_exporter": "python",
   "pygments_lexer": "ipython3",
   "version": "3.9.7"
  }
 },
 "nbformat": 4,
 "nbformat_minor": 5
}
