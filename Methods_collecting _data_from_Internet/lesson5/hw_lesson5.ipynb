{
 "cells": [
  {
   "cell_type": "markdown",
   "id": "cc0430e1",
   "metadata": {},
   "source": [
    "# Методы сбора и обработки данных из сети Интернет\n",
    "### GeekBrains\n",
    "## Практическое задание урока 5\n",
    "## Казанцев Виталий"
   ]
  },
  {
   "cell_type": "markdown",
   "id": "9f733d64",
   "metadata": {},
   "source": [
    "# Вариант I\n",
    "\n",
    "Написать программу, которая собирает входящие письма из своего или тестового почтового ящика и сложить данные о письмах в базу данных (\n",
    "*    от кого, \n",
    "*    дата отправки, \n",
    "*    тема письма, \n",
    "*    текст письма полный  \n",
    ")\n",
    "\n",
    "Логин тестового ящика: **study.ai_172@mail.ru**  \n",
    "Пароль тестового ящика: **NextPassword172#**\n",
    "\n",
    "# Вариант II\n",
    "\n",
    "Написать программу, которая собирает товары «В тренде» с сайта техники mvideo и складывает данные в БД. Сайт можно выбрать и свой. Главный критерий выбора: динамически загружаемые товары\n"
   ]
  },
  {
   "cell_type": "code",
   "execution_count": 1,
   "id": "2166b1cb",
   "metadata": {},
   "outputs": [],
   "source": [
    "import environs\n",
    "from selenium import webdriver\n",
    "from selenium.webdriver.common.by import By\n",
    "from selenium.webdriver.common.keys import Keys\n",
    "from selenium.webdriver.chrome.options import Options\n",
    "from selenium.common import exceptions\n",
    "from selenium.webdriver.common.action_chains import ActionChains\n",
    "from datetime import date\n",
    "import time\n",
    "from pprint import pprint"
   ]
  },
  {
   "cell_type": "code",
   "execution_count": 2,
   "id": "1738213e",
   "metadata": {},
   "outputs": [],
   "source": [
    "env = environs.Env()\n",
    "env.read_env('.env')\n",
    "LOGIN = env('LOGIN')\n",
    "PASSWORD = env('PASSWORD')"
   ]
  },
  {
   "cell_type": "code",
   "execution_count": 3,
   "id": "3611c050",
   "metadata": {},
   "outputs": [],
   "source": [
    "options = Options()\n",
    "options.add_argument('--start-maximised')"
   ]
  },
  {
   "cell_type": "code",
   "execution_count": 4,
   "id": "43272e53",
   "metadata": {},
   "outputs": [],
   "source": [
    "driver = webdriver.Chrome(executable_path='./chromedriver', options=options)\n",
    "driver.implicitly_wait(10)\n",
    "driver.fullscreen_window()\n",
    "driver.get('https://mail.ru/')"
   ]
  },
  {
   "cell_type": "code",
   "execution_count": 5,
   "id": "561802be",
   "metadata": {},
   "outputs": [],
   "source": [
    "el = driver.find_element(By.CLASS_NAME, 'email-input')\n",
    "el.send_keys(LOGIN)"
   ]
  },
  {
   "cell_type": "code",
   "execution_count": 6,
   "id": "4786e3be",
   "metadata": {},
   "outputs": [],
   "source": [
    "el = driver.find_element(By.XPATH, '//button[@data-testid=\"enter-password\"]')\n",
    "el.click()"
   ]
  },
  {
   "cell_type": "code",
   "execution_count": 7,
   "id": "3b2ff240",
   "metadata": {},
   "outputs": [],
   "source": [
    "el = driver.find_element(By.CLASS_NAME, 'password-input')\n",
    "el.send_keys(PASSWORD)\n",
    "el.send_keys(Keys.ENTER)"
   ]
  },
  {
   "cell_type": "code",
   "execution_count": 8,
   "id": "f2ac7f2d",
   "metadata": {},
   "outputs": [],
   "source": [
    "letters = driver.find_elements(By.CLASS_NAME, 'js-tooltip-direction_letter-bottom')\n",
    "letters[0].click()"
   ]
  },
  {
   "cell_type": "code",
   "execution_count": 9,
   "id": "3044908a",
   "metadata": {
    "scrolled": false
   },
   "outputs": [],
   "source": [
    "letters_list = []\n",
    "i = 0\n",
    "while True:\n",
    "    letter_data = {}\n",
    "    lnk = driver.current_url\n",
    "    if i == 1 and lnk == link:\n",
    "        break\n",
    "    link = driver.current_url\n",
    "    thema = driver.find_element(By.CLASS_NAME, 'thread__subject').text\n",
    "    mail_from = driver.find_element(By.CLASS_NAME, 'letter-contact').text\n",
    "    letter_date = driver.find_element(By.CLASS_NAME, 'letter__date').text\n",
    "    if 'Сегодня' in letter_date:\n",
    "        letter_date = date.today().strftime('%d, %B')\n",
    "    letter_text = driver.find_element(By.CLASS_NAME, 'letter__body').text\n",
    "    letter_data['E-mail отправителя'] = mail_from\n",
    "    letter_data['Дата получения'] = letter_date\n",
    "    letter_data['Тема письма'] = thema\n",
    "    letter_data['Текст письма'] = letter_text\n",
    "    letter_data['Ссылка на письмо'] = link\n",
    "    letters_list.append(letter_data)\n",
    "    next_letter = driver.find_element(By.CLASS_NAME, 'portal-menu-element_next')\n",
    "    next_letter.click()\n",
    "    i = 1\n",
    "    time.sleep(3)\n",
    "   "
   ]
  },
  {
   "cell_type": "code",
   "execution_count": 10,
   "id": "cc15aa32",
   "metadata": {},
   "outputs": [
    {
     "data": {
      "text/plain": [
       "1042"
      ]
     },
     "execution_count": 10,
     "metadata": {},
     "output_type": "execute_result"
    }
   ],
   "source": [
    "len(letters_list)"
   ]
  },
  {
   "cell_type": "code",
   "execution_count": 11,
   "id": "b3f88e9b",
   "metadata": {},
   "outputs": [],
   "source": [
    "from pymongo import MongoClient as mcl"
   ]
  },
  {
   "cell_type": "code",
   "execution_count": 12,
   "id": "e516f64f",
   "metadata": {},
   "outputs": [],
   "source": [
    "client = mcl('127.0.0.1', 27017)\n",
    "db = client['letters']\n",
    "letters = db.letters\n",
    "letters.create_index('link', unique=True)\n",
    "for doc in letters_list:\n",
    "    try:\n",
    "        news.insert_one(doc)\n",
    "    except:\n",
    "        continue\n"
   ]
  }
 ],
 "metadata": {
  "kernelspec": {
   "display_name": "Python 3 (ipykernel)",
   "language": "python",
   "name": "python3"
  },
  "language_info": {
   "codemirror_mode": {
    "name": "ipython",
    "version": 3
   },
   "file_extension": ".py",
   "mimetype": "text/x-python",
   "name": "python",
   "nbconvert_exporter": "python",
   "pygments_lexer": "ipython3",
   "version": "3.9.7"
  }
 },
 "nbformat": 4,
 "nbformat_minor": 5
}
