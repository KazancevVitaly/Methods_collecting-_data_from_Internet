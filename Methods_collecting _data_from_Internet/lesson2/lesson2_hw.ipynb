{
 "cells": [
  {
   "cell_type": "markdown",
   "id": "3c832865",
   "metadata": {},
   "source": [
    "# Домашняя работа\n",
    "### GeekBrains\n",
    "## Казанцев Виталий"
   ]
  },
  {
   "cell_type": "markdown",
   "id": "a31633eb",
   "metadata": {},
   "source": [
    "### Вариант 1\n",
    "Необходимо собрать информацию о вакансиях на вводимую должность (используем input или через аргументы получаем должность) с сайтов HH(обязательно) и/или Superjob(по желанию). Приложение должно анализировать несколько страниц сайта (также вводим через input или аргументы). Получившийся список должен содержать в себе минимум:\n",
    "\n",
    "*   Наименование вакансии.\n",
    "*   Предлагаемую зарплату (разносим в три поля: минимальная и максимальная и валюта. цифры преобразуем к цифрам).\n",
    "*   Ссылку на саму вакансию.\n",
    "*   Сайт, откуда собрана вакансия.\n",
    "\n",
    "***По желанию можно добавить ещё параметры вакансии (например, работодателя и расположение). Структура должна быть одинаковая для вакансий с обоих сайтов. Общий результат можно вывести с помощью dataFrame через pandas. Сохраните в json либо csv.**"
   ]
  },
  {
   "cell_type": "markdown",
   "id": "9e87a42f",
   "metadata": {},
   "source": [
    "версия python 3.9.7"
   ]
  },
  {
   "cell_type": "code",
   "execution_count": 1,
   "id": "4285be35",
   "metadata": {},
   "outputs": [],
   "source": [
    "import requests\n",
    "import pandas as pd\n",
    "from bs4 import BeautifulSoup\n",
    "import json\n",
    "from pprint import pprint"
   ]
  },
  {
   "cell_type": "code",
   "execution_count": 2,
   "id": "4d9308ed",
   "metadata": {},
   "outputs": [],
   "source": [
    "headers = {'UserAgent': 'Mozilla/5.0 (X11; Ubuntu; Linux x86_64; rv:94.0) Gecko/20100101 Firefox/94.0'}"
   ]
  },
  {
   "cell_type": "code",
   "execution_count": 3,
   "id": "dc65a409",
   "metadata": {},
   "outputs": [],
   "source": [
    "urlhh = 'http://www.hh.ru'\n",
    "urlsj = 'https://russia.superjob.ru'"
   ]
  },
  {
   "cell_type": "code",
   "execution_count": 4,
   "id": "a53416b0",
   "metadata": {},
   "outputs": [
    {
     "name": "stdout",
     "output_type": "stream",
     "text": [
      "Укажита вакансию:\n",
      "Python\n"
     ]
    },
    {
     "data": {
      "text/plain": [
       "'Python'"
      ]
     },
     "execution_count": 4,
     "metadata": {},
     "output_type": "execute_result"
    }
   ],
   "source": [
    "vocation = input('Укажита вакансию:\\n')\n",
    "vocation"
   ]
  },
  {
   "cell_type": "markdown",
   "id": "c079ee44",
   "metadata": {},
   "source": [
    "https://hh.ru/search/vacancy?area=113&fromSearchLine=true&text=Python\n",
    "\n",
    "https://russia.superjob.ru/vacancy/search/?keywords=Python"
   ]
  },
  {
   "cell_type": "code",
   "execution_count": 5,
   "id": "3d96e702",
   "metadata": {},
   "outputs": [],
   "source": [
    "paramshh = {\n",
    "    'area': '113',\n",
    "    'fromSearchLine': 'true',\n",
    "    'text': vocation\n",
    "}\n",
    "paramshh\n",
    "\n",
    "paramssj = {\n",
    "    'keywords': vocation,\n",
    "}"
   ]
  },
  {
   "cell_type": "code",
   "execution_count": 6,
   "id": "db228717",
   "metadata": {},
   "outputs": [
    {
     "data": {
      "text/plain": [
       "<Response [404]>"
      ]
     },
     "execution_count": 6,
     "metadata": {},
     "output_type": "execute_result"
    }
   ],
   "source": [
    "response_hh = requests.get(\n",
    "    urlhh + '/search/vacancy',\n",
    "    params=paramshh, \n",
    "    headers=headers\n",
    ")\n",
    "response_hh"
   ]
  },
  {
   "cell_type": "code",
   "execution_count": 7,
   "id": "dc531841",
   "metadata": {},
   "outputs": [
    {
     "data": {
      "text/plain": [
       "<Response [404]>"
      ]
     },
     "execution_count": 7,
     "metadata": {},
     "output_type": "execute_result"
    }
   ],
   "source": [
    "response_hh = requests.get(\n",
    "    'https://hh.ru/search/vacancy?area=113&fromSearchLine=true&text=Python', \n",
    "    params=None, \n",
    "    headers=headers\n",
    ")\n",
    "response_hh"
   ]
  },
  {
   "cell_type": "code",
   "execution_count": 8,
   "id": "93363a6c",
   "metadata": {},
   "outputs": [
    {
     "data": {
      "text/plain": [
       "<Response [200]>"
      ]
     },
     "execution_count": 8,
     "metadata": {},
     "output_type": "execute_result"
    }
   ],
   "source": [
    "response_sj = requests.get(\n",
    "    f'{urlsj}/vacancy/search/', \n",
    "    params=paramssj, \n",
    "    headers= headers\n",
    ")\n",
    "response_sj"
   ]
  },
  {
   "cell_type": "code",
   "execution_count": 9,
   "id": "177de709",
   "metadata": {},
   "outputs": [],
   "source": [
    "dom_js = BeautifulSoup(response_sj.text, 'html.parser')"
   ]
  },
  {
   "cell_type": "code",
   "execution_count": 10,
   "id": "aded6879",
   "metadata": {},
   "outputs": [
    {
     "data": {
      "text/plain": [
       "<div class=\"f-test-search-result-item\"><div><div><div class=\"_3eZwq iJCa5 f-test-vacancy-item _1fma_ _2nteL\"><div class=\"Fo44F QiY08 LvoDO\" spacing=\"3\"><div class=\"_2g1F-\"></div><div class=\"_2g1F-\"></div><div class=\"_2g1F-\"><div><div class=\"jNMYr GPKTZ _1tH7S\"><span class=\"_1e6dO _1XzYb _2EZcW\"><a class=\"icMQ_ _6AfZ9 f-test-link-QA-avtomatizator_(python) _2JivQ _1UJAN\" href=\"/vakansii/qa-avtomatizator-39705235.html\" target=\"_blank\">QA-автоматизатор (<span class=\"_1rS-s\">python</span>)</a></span><span class=\"_1OuF_ _1qw9T f-test-text-company-item-salary\"><span class=\"_2Wp8I _1e6dO _1XzYb Js9sN _3Jn4o\">По договорённости</span></span></div><div class=\"_3_eyK _3P0J7 _9_FPy\" spacing=\"2\"><div class=\"_2g1F-\"><span class=\"_3Fsn4 f-test-text-vacancy-item-company-name _1AZJ2 _1XzYb Js9sN _3Jn4o WGREZ\"><a class=\"icMQ_ _205Zx f-test-link-Sberbank_Rossii _25-u7\" href=\"/clients/sberbank-rossii-297921.html\" target=\"_self\">Сбербанк России</a></span></div><div class=\"_2g1F-\"><span class=\"f-test-text-company-item-location _1AZJ2 _1XzYb Js9sN _3Jn4o\"><span class=\"_1AZJ2 _1XzYb Js9sN _3Jn4o\">15:22</span><span class=\"clLH5\"> • </span>Москва</span></div></div><div class=\"HSTPm _3C76h _10Aay _2_FIo _1tH7S\"><span class=\"_38T7m _1AZJ2 _1XzYb Js9sN _3Jn4o WGREZ\"><div class=\"_31Ael\"><a class=\"icMQ_ f-test-link-\" href=\"/clients/sberbank-rossii-297921.html\" target=\"_self\"><img alt=\"Сбербанк России\" class=\"_1RFJq\" loading=\"lazy\" src=\"//public.superjob.ru/images/clients_logos.ru/297921_a4a0093f0710c822609fd387af1d3ca9.jpg\"/></a></div>Проведение автотестирования (системное, интеграционное) 80% и ручного 20. Тестирование на большом объеме данных. Формирование…<br/>Опыт в качестве автоматизатора функционального тестирования более 1 года. Опыт написания автотестов на проверку API на Java…</span></div></div></div><div class=\"_2g1F-\"></div><div class=\"_2g1F-\"><div class=\"_3Qutk _3fT-Z _2W8_a\"><div class=\"_1Ttd8\"><div class=\"_3P0J7 _9_FPy _1iZ5S\" spacing=\"2\"><div class=\"_2g1F-\"><button class=\"bs_sM f-test-vacancy-response-button _1M2AW f-test-button-Otkliknutsya\" tabindex=\"0\" type=\"button\"><span class=\"_3hkiy _23N8J _7osUe _22Fip _1aeJh\" tabindex=\"-1\"><span class=\"_1sPXR\"><span class=\"_1BOkc\">Откликнуться</span></span></span></button></div><div class=\"_2g1F-\"></div></div></div><div class=\"_1Ttd8\"><div class=\"_3P0J7 _9_FPy _1iZ5S\" spacing=\"2\"><div class=\"_2g1F-\"><div class=\"dPsvk\"><span aria-pressed=\"false\" class=\"f-test-clickable- LStXY _1sMhc\" role=\"button\" tabindex=\"0\"><span aria-pressed=\"false\" class=\"_1V1Nk f-test-star_border-star _1Mrhs HO2FB f-test-clickable- _1sMhc\" role=\"button\" tabindex=\"0\"><div class=\"_2q4uC\"><svg class=\"_2pknO _1M2AW _3ZJ4b _3MNT6\" viewbox=\"0 0 24 24\"><use xlink:href=\"#star_border\"></use></svg></div><div class=\"_1Acan\"><svg class=\"_2pknO _1M2AW _3ZJ4b _3luW8\" viewbox=\"0 0 24 24\"><use xlink:href=\"#star\"></use></svg></div></span></span></div><div class=\"_19fjG _3rSv1\" role=\"tooltip\"><div class=\"IeOui _31NcS\">Добавить в избранное</div></div></div><div class=\"_2g1F-\"><div class=\"_2BDyW\"><div class=\"_9hBiK\"><button class=\"bs_sM _1M2AW f-test-button-more_vert\" tabindex=\"0\" type=\"button\"><span class=\"_3hkiy _30F5F _2wuZv _22Fip _3PbQP _2mvXt _2IhCW\" tabindex=\"-1\"><span class=\"_1sPXR\"><span class=\"_2KMdU\"><svg class=\"_2pknO _1M2AW _3ZJ4b\" viewbox=\"0 0 24 24\"><use xlink:href=\"#more_vert\"></use></svg></span></span></span></button></div></div></div></div></div></div></div><div class=\"_2g1F-\"></div></div></div></div></div></div>"
      ]
     },
     "execution_count": 10,
     "metadata": {},
     "output_type": "execute_result"
    }
   ],
   "source": [
    "superjobs = dom_js.find_all('div', {'class': 'f-test-search-result-item'})\n",
    "superjobs[0]"
   ]
  },
  {
   "cell_type": "code",
   "execution_count": 11,
   "id": "5c7afcd1",
   "metadata": {
    "scrolled": false
   },
   "outputs": [],
   "source": [
    "# <div class=\"we08m\">\n",
    "def class_exists(soup, teg, cl):\n",
    "    if soup.find(teg, {'class': cl}):\n",
    "        return True\n",
    "    return False"
   ]
  },
  {
   "cell_type": "code",
   "execution_count": 12,
   "id": "e1055a30",
   "metadata": {
    "scrolled": false
   },
   "outputs": [
    {
     "name": "stdout",
     "output_type": "stream",
     "text": [
      "[{'link': 'https://russia.superjob.ru/vakansii/qa-avtomatizator-39705235.html',\n",
      "  'max_salary': None,\n",
      "  'min_salary': None,\n",
      "  'name': 'QA-автоматизатор (python)',\n",
      "  'site_from': 'https://russia.superjob.ru',\n",
      "  'valut_salary': None},\n",
      " {'link': 'https://russia.superjob.ru/vakansii/prepodavatel-programmirovaniya-na-yazyke-python-39552087.html',\n",
      "  'max_salary': None,\n",
      "  'min_salary': None,\n",
      "  'name': 'Преподаватель программирования на языке Python, преподаватель '\n",
      "          'кибергигиены, мобильной разработки',\n",
      "  'site_from': 'https://russia.superjob.ru',\n",
      "  'valut_salary': None},\n",
      " {'link': 'https://russia.superjob.ru/vakansii/python-backend-developer-39595398.html',\n",
      "  'max_salary': 185000,\n",
      "  'min_salary': 185000,\n",
      "  'name': 'Python Backend Developer / WEB-разработчик',\n",
      "  'site_from': 'https://russia.superjob.ru',\n",
      "  'valut_salary': 'руб.'},\n",
      " {'link': 'https://russia.superjob.ru/vakansii/programmist-python-39759582.html',\n",
      "  'max_salary': None,\n",
      "  'min_salary': None,\n",
      "  'name': 'Программист Python',\n",
      "  'site_from': 'https://russia.superjob.ru',\n",
      "  'valut_salary': None},\n",
      " {'link': 'https://russia.superjob.ru/vakansii/senior-python-developer-39529912.html',\n",
      "  'max_salary': 180000,\n",
      "  'min_salary': 180000,\n",
      "  'name': 'Senior python developer / Teamlead (Odoo)',\n",
      "  'site_from': 'https://russia.superjob.ru',\n",
      "  'valut_salary': 'руб.'},\n",
      " {'link': 'https://russia.superjob.ru/vakansii/python-developer-39937020.html',\n",
      "  'max_salary': 140000,\n",
      "  'min_salary': 120000,\n",
      "  'name': 'Python developer',\n",
      "  'site_from': 'https://russia.superjob.ru',\n",
      "  'valut_salary': 'руб.'},\n",
      " {'link': 'https://russia.superjob.ru/vakansii/programmist-python-39857069.html',\n",
      "  'max_salary': 30000,\n",
      "  'min_salary': 30000,\n",
      "  'name': 'Программист Python, Bakend Developer Python',\n",
      "  'site_from': 'https://russia.superjob.ru',\n",
      "  'valut_salary': 'руб.'},\n",
      " {'link': 'https://russia.superjob.ru/vakansii/python-django-fullstack-razrabotchik-39274896.html',\n",
      "  'max_salary': 200000,\n",
      "  'min_salary': 200000,\n",
      "  'name': 'Python Django fullstack разработчик',\n",
      "  'site_from': 'https://russia.superjob.ru',\n",
      "  'valut_salary': 'руб.'},\n",
      " {'link': 'https://russia.superjob.ru/vakansii/junior-python-39359235.html',\n",
      "  'max_salary': 30000,\n",
      "  'min_salary': 25000,\n",
      "  'name': 'Junior Python',\n",
      "  'site_from': 'https://russia.superjob.ru',\n",
      "  'valut_salary': 'руб.'},\n",
      " {'link': 'https://russia.superjob.ru/vakansii/starshij-razrabotchik-python-39531755.html',\n",
      "  'max_salary': 300000,\n",
      "  'min_salary': 240000,\n",
      "  'name': 'Старший разработчик Python',\n",
      "  'site_from': 'https://russia.superjob.ru',\n",
      "  'valut_salary': 'руб.'}]\n"
     ]
    }
   ],
   "source": [
    "superjobs_list = []\n",
    "for i in range(8):\n",
    "    paramssj['page'] = i+1\n",
    "    for job in superjobs:\n",
    "        if class_exists(job, 'div', 'Fo44F'):\n",
    "            superjobs_data = {}\n",
    "            info = job.find('a', {'class': 'icMQ_'})\n",
    "            name = info.getText()\n",
    "            link = urlsj + info['href']\n",
    "            salary = job.find('span', {'class': '_2Wp8I'}).getText()\n",
    "            salary = salary.replace(u'\\xa0', u' ')\n",
    "            if salary == 'По договорённости':\n",
    "                mins = None\n",
    "                maxs = None\n",
    "                valuta = None\n",
    "            else:\n",
    "                salary_list = salary.split(' ')\n",
    "                valuta = salary_list[-1]\n",
    "                salary_list.pop()\n",
    "                if salary_list[0].isalpha():\n",
    "                    salary_list.pop(0)\n",
    "                salary = ''.join(salary_list)\n",
    "                if '—' in salary:\n",
    "                    mins = int(salary.split('—')[0])\n",
    "                    maxs = int(salary.split('—')[1])\n",
    "                else:\n",
    "                    mins = int(salary)\n",
    "                    maxs = int(salary)\n",
    "            site = urlsj\n",
    "            superjobs_data['name'] = name\n",
    "            superjobs_data['link'] = link\n",
    "            superjobs_data['min_salary'] = mins\n",
    "            superjobs_data['max_salary'] = maxs\n",
    "            superjobs_data['valut_salary'] = valuta\n",
    "            superjobs_data['site_from'] = site\n",
    "            superjobs_list.append(superjobs_data)\n",
    "        \n",
    "pprint(superjobs_list[:10])            "
   ]
  },
  {
   "cell_type": "code",
   "execution_count": 13,
   "id": "f316384c",
   "metadata": {},
   "outputs": [
    {
     "data": {
      "text/html": [
       "<div>\n",
       "<style scoped>\n",
       "    .dataframe tbody tr th:only-of-type {\n",
       "        vertical-align: middle;\n",
       "    }\n",
       "\n",
       "    .dataframe tbody tr th {\n",
       "        vertical-align: top;\n",
       "    }\n",
       "\n",
       "    .dataframe thead th {\n",
       "        text-align: right;\n",
       "    }\n",
       "</style>\n",
       "<table border=\"1\" class=\"dataframe\">\n",
       "  <thead>\n",
       "    <tr style=\"text-align: right;\">\n",
       "      <th></th>\n",
       "      <th>name</th>\n",
       "      <th>link</th>\n",
       "      <th>min_salary</th>\n",
       "      <th>max_salary</th>\n",
       "      <th>valut_salary</th>\n",
       "      <th>site_from</th>\n",
       "    </tr>\n",
       "  </thead>\n",
       "  <tbody>\n",
       "    <tr>\n",
       "      <th>0</th>\n",
       "      <td>QA-автоматизатор (python)</td>\n",
       "      <td>https://russia.superjob.ru/vakansii/qa-avtomat...</td>\n",
       "      <td>NaN</td>\n",
       "      <td>NaN</td>\n",
       "      <td>None</td>\n",
       "      <td>https://russia.superjob.ru</td>\n",
       "    </tr>\n",
       "    <tr>\n",
       "      <th>1</th>\n",
       "      <td>Преподаватель программирования на языке Python...</td>\n",
       "      <td>https://russia.superjob.ru/vakansii/prepodavat...</td>\n",
       "      <td>NaN</td>\n",
       "      <td>NaN</td>\n",
       "      <td>None</td>\n",
       "      <td>https://russia.superjob.ru</td>\n",
       "    </tr>\n",
       "    <tr>\n",
       "      <th>2</th>\n",
       "      <td>Python Backend Developer / WEB-разработчик</td>\n",
       "      <td>https://russia.superjob.ru/vakansii/python-bac...</td>\n",
       "      <td>185000.0</td>\n",
       "      <td>185000.0</td>\n",
       "      <td>руб.</td>\n",
       "      <td>https://russia.superjob.ru</td>\n",
       "    </tr>\n",
       "    <tr>\n",
       "      <th>3</th>\n",
       "      <td>Программист Python</td>\n",
       "      <td>https://russia.superjob.ru/vakansii/programmis...</td>\n",
       "      <td>NaN</td>\n",
       "      <td>NaN</td>\n",
       "      <td>None</td>\n",
       "      <td>https://russia.superjob.ru</td>\n",
       "    </tr>\n",
       "    <tr>\n",
       "      <th>4</th>\n",
       "      <td>Senior python developer / Teamlead (Odoo)</td>\n",
       "      <td>https://russia.superjob.ru/vakansii/senior-pyt...</td>\n",
       "      <td>180000.0</td>\n",
       "      <td>180000.0</td>\n",
       "      <td>руб.</td>\n",
       "      <td>https://russia.superjob.ru</td>\n",
       "    </tr>\n",
       "  </tbody>\n",
       "</table>\n",
       "</div>"
      ],
      "text/plain": [
       "                                                name  \\\n",
       "0                          QA-автоматизатор (python)   \n",
       "1  Преподаватель программирования на языке Python...   \n",
       "2         Python Backend Developer / WEB-разработчик   \n",
       "3                                 Программист Python   \n",
       "4          Senior python developer / Teamlead (Odoo)   \n",
       "\n",
       "                                                link  min_salary  max_salary  \\\n",
       "0  https://russia.superjob.ru/vakansii/qa-avtomat...         NaN         NaN   \n",
       "1  https://russia.superjob.ru/vakansii/prepodavat...         NaN         NaN   \n",
       "2  https://russia.superjob.ru/vakansii/python-bac...    185000.0    185000.0   \n",
       "3  https://russia.superjob.ru/vakansii/programmis...         NaN         NaN   \n",
       "4  https://russia.superjob.ru/vakansii/senior-pyt...    180000.0    180000.0   \n",
       "\n",
       "  valut_salary                   site_from  \n",
       "0         None  https://russia.superjob.ru  \n",
       "1         None  https://russia.superjob.ru  \n",
       "2         руб.  https://russia.superjob.ru  \n",
       "3         None  https://russia.superjob.ru  \n",
       "4         руб.  https://russia.superjob.ru  "
      ]
     },
     "execution_count": 13,
     "metadata": {},
     "output_type": "execute_result"
    }
   ],
   "source": [
    "df = pd.DataFrame(superjobs_list)\n",
    "df.head()"
   ]
  },
  {
   "cell_type": "code",
   "execution_count": 14,
   "id": "6ca5eca7",
   "metadata": {},
   "outputs": [],
   "source": [
    "df.to_csv('superjob.csv', sep='\\t')"
   ]
  }
 ],
 "metadata": {
  "kernelspec": {
   "display_name": "Python 3 (ipykernel)",
   "language": "python",
   "name": "python3"
  },
  "language_info": {
   "codemirror_mode": {
    "name": "ipython",
    "version": 3
   },
   "file_extension": ".py",
   "mimetype": "text/x-python",
   "name": "python",
   "nbconvert_exporter": "python",
   "pygments_lexer": "ipython3",
   "version": "3.9.7"
  }
 },
 "nbformat": 4,
 "nbformat_minor": 5
}
